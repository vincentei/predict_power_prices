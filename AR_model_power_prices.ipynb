{
  "nbformat": 4,
  "nbformat_minor": 0,
  "metadata": {
    "colab": {
      "name": "AR_model_power_prices.ipynb",
      "version": "0.3.2",
      "provenance": [],
      "collapsed_sections": [],
      "toc_visible": true
    },
    "kernelspec": {
      "name": "python3",
      "display_name": "Python 3"
    }
  },
  "cells": [
    {
      "cell_type": "markdown",
      "metadata": {
        "id": "view-in-github",
        "colab_type": "text"
      },
      "source": [
        "[View in Colaboratory](https://colab.research.google.com/github/vincentei/predict_power_prices/blob/master/AR_model_power_prices.ipynb)"
      ]
    },
    {
      "metadata": {
        "id": "t7ewcXIjbfRK",
        "colab_type": "code",
        "colab": {}
      },
      "cell_type": "code",
      "source": [
        "import pandas as pd\n",
        "from sklearn.linear_model import LinearRegression\n",
        "from sklearn.metrics import mean_absolute_error, mean_squared_error\n",
        "import numpy as np\n",
        "import matplotlib.pyplot as plt\n",
        "%matplotlib inline\n",
        "import datetime as dt"
      ],
      "execution_count": 0,
      "outputs": []
    },
    {
      "metadata": {
        "id": "HNmvoeuMV2wM",
        "colab_type": "code",
        "colab": {}
      },
      "cell_type": "code",
      "source": [
        "needUpload = False"
      ],
      "execution_count": 0,
      "outputs": []
    },
    {
      "metadata": {
        "id": "VCUSLelSjWtS",
        "colab_type": "code",
        "colab": {}
      },
      "cell_type": "code",
      "source": [
        "if needUpload == True:\n",
        "  from google.colab import files\n",
        "\n",
        "  uploaded = files.upload()\n",
        "\n",
        "  for fn in uploaded.keys():\n",
        "    print('User uploaded file \"{name}\" with length {length} bytes'.format(\n",
        "        name=fn, length=len(uploaded[fn])))"
      ],
      "execution_count": 0,
      "outputs": []
    },
    {
      "metadata": {
        "id": "SlYnSZA1cSHN",
        "colab_type": "code",
        "colab": {}
      },
      "cell_type": "code",
      "source": [
        "# import the data\n",
        "df = pd.read_csv('prices.csv',usecols=['deliverydate','price','WIND_NL'])"
      ],
      "execution_count": 0,
      "outputs": []
    },
    {
      "metadata": {
        "id": "dnLzeS9xAuxE",
        "colab_type": "code",
        "colab": {}
      },
      "cell_type": "code",
      "source": [
        "df['price'] = df['price'] / 100\n",
        "df['WIND_NL'] = df['WIND_NL']/4"
      ],
      "execution_count": 0,
      "outputs": []
    },
    {
      "metadata": {
        "id": "a1p9hAu1r8b6",
        "colab_type": "code",
        "colab": {
          "base_uri": "https://localhost:8080/",
          "height": 111
        },
        "outputId": "6d0f6afb-970e-4213-d47f-9eed8143f1ff"
      },
      "cell_type": "code",
      "source": [
        "df.head(2)"
      ],
      "execution_count": 39,
      "outputs": [
        {
          "output_type": "execute_result",
          "data": {
            "text/html": [
              "<div>\n",
              "<style scoped>\n",
              "    .dataframe tbody tr th:only-of-type {\n",
              "        vertical-align: middle;\n",
              "    }\n",
              "\n",
              "    .dataframe tbody tr th {\n",
              "        vertical-align: top;\n",
              "    }\n",
              "\n",
              "    .dataframe thead th {\n",
              "        text-align: right;\n",
              "    }\n",
              "</style>\n",
              "<table border=\"1\" class=\"dataframe\">\n",
              "  <thead>\n",
              "    <tr style=\"text-align: right;\">\n",
              "      <th></th>\n",
              "      <th>deliverydate</th>\n",
              "      <th>price</th>\n",
              "      <th>WIND_NL</th>\n",
              "    </tr>\n",
              "  </thead>\n",
              "  <tbody>\n",
              "    <tr>\n",
              "      <th>0</th>\n",
              "      <td>02-01-2013 00:00</td>\n",
              "      <td>0.3406</td>\n",
              "      <td>0.3625</td>\n",
              "    </tr>\n",
              "    <tr>\n",
              "      <th>1</th>\n",
              "      <td>02-01-2013 01:00</td>\n",
              "      <td>0.3386</td>\n",
              "      <td>0.3875</td>\n",
              "    </tr>\n",
              "  </tbody>\n",
              "</table>\n",
              "</div>"
            ],
            "text/plain": [
              "       deliverydate   price  WIND_NL\n",
              "0  02-01-2013 00:00  0.3406   0.3625\n",
              "1  02-01-2013 01:00  0.3386   0.3875"
            ]
          },
          "metadata": {
            "tags": []
          },
          "execution_count": 39
        }
      ]
    },
    {
      "metadata": {
        "id": "YgMlaZn9dDJv",
        "colab_type": "code",
        "colab": {
          "base_uri": "https://localhost:8080/",
          "height": 111
        },
        "outputId": "f2d75bcd-03a5-4aa8-82df-362f2913aa8d"
      },
      "cell_type": "code",
      "source": [
        "# convert to datetime\n",
        "df['deliverydate'] = pd.to_datetime(df['deliverydate'],format = '%d-%m-%Y %H:%M')\n",
        "df['deliverydate'] = df['deliverydate'].dt.tz_localize('Europe/Amsterdam',ambiguous='infer')\n",
        "df.head(2)"
      ],
      "execution_count": 40,
      "outputs": [
        {
          "output_type": "execute_result",
          "data": {
            "text/html": [
              "<div>\n",
              "<style scoped>\n",
              "    .dataframe tbody tr th:only-of-type {\n",
              "        vertical-align: middle;\n",
              "    }\n",
              "\n",
              "    .dataframe tbody tr th {\n",
              "        vertical-align: top;\n",
              "    }\n",
              "\n",
              "    .dataframe thead th {\n",
              "        text-align: right;\n",
              "    }\n",
              "</style>\n",
              "<table border=\"1\" class=\"dataframe\">\n",
              "  <thead>\n",
              "    <tr style=\"text-align: right;\">\n",
              "      <th></th>\n",
              "      <th>deliverydate</th>\n",
              "      <th>price</th>\n",
              "      <th>WIND_NL</th>\n",
              "    </tr>\n",
              "  </thead>\n",
              "  <tbody>\n",
              "    <tr>\n",
              "      <th>0</th>\n",
              "      <td>2013-01-02 00:00:00+01:00</td>\n",
              "      <td>0.3406</td>\n",
              "      <td>0.3625</td>\n",
              "    </tr>\n",
              "    <tr>\n",
              "      <th>1</th>\n",
              "      <td>2013-01-02 01:00:00+01:00</td>\n",
              "      <td>0.3386</td>\n",
              "      <td>0.3875</td>\n",
              "    </tr>\n",
              "  </tbody>\n",
              "</table>\n",
              "</div>"
            ],
            "text/plain": [
              "               deliverydate   price  WIND_NL\n",
              "0 2013-01-02 00:00:00+01:00  0.3406   0.3625\n",
              "1 2013-01-02 01:00:00+01:00  0.3386   0.3875"
            ]
          },
          "metadata": {
            "tags": []
          },
          "execution_count": 40
        }
      ]
    },
    {
      "metadata": {
        "id": "fpbDTFz_tu90",
        "colab_type": "code",
        "colab": {
          "base_uri": "https://localhost:8080/",
          "height": 34
        },
        "outputId": "a6be8f7a-03f0-491b-d270-b26bc364103d"
      },
      "cell_type": "code",
      "source": [
        "a = df['deliverydate'] == dt.datetime(2014,6,2,0,0)\n",
        "df[a].index.item()"
      ],
      "execution_count": 41,
      "outputs": [
        {
          "output_type": "execute_result",
          "data": {
            "text/plain": [
              "12385"
            ]
          },
          "metadata": {
            "tags": []
          },
          "execution_count": 41
        }
      ]
    },
    {
      "metadata": {
        "id": "7bbC1dJUrXKy",
        "colab_type": "code",
        "colab": {
          "base_uri": "https://localhost:8080/",
          "height": 282
        },
        "outputId": "1702eaa0-a0e6-47c8-cb68-6de670639bfe"
      },
      "cell_type": "code",
      "source": [
        "# plot 1 week of power prices\n",
        "a = 12385\n",
        "plt.plot(df['price'][a:a + 168])"
      ],
      "execution_count": 42,
      "outputs": [
        {
          "output_type": "execute_result",
          "data": {
            "text/plain": [
              "[<matplotlib.lines.Line2D at 0x7f893022a940>]"
            ]
          },
          "metadata": {
            "tags": []
          },
          "execution_count": 42
        },
        {
          "output_type": "display_data",
          "data": {
            "image/png": "[encoded data removed]",
            "text/plain": [
              "<matplotlib.figure.Figure at 0x7f89305935c0>"
            ]
          },
          "metadata": {
            "tags": []
          }
        }
      ]
    },
    {
      "metadata": {
        "id": "Qh7YHAQ5dYXp",
        "colab_type": "code",
        "colab": {}
      },
      "cell_type": "code",
      "source": [
        "# make lags\n",
        "#lags = [1,2,3,7,14] # number of days\n",
        "#lags = [1,2] # number of days\n",
        "hours = 24\n",
        "lags = [1,2,3,7] # number of days\n",
        "\n",
        "for i in lags:\n",
        "        col_name = 'lag' + str(i*hours)\n",
        "        df[col_name] = df['price'].shift(i*hours)"
      ],
      "execution_count": 0,
      "outputs": []
    },
    {
      "metadata": {
        "id": "_2N5FXd-eZAY",
        "colab_type": "code",
        "colab": {
          "base_uri": "https://localhost:8080/",
          "height": 204
        },
        "outputId": "cd26c3ea-874b-40d8-e1b3-98b3151030dd"
      },
      "cell_type": "code",
      "source": [
        "idx = [0,1,23,24,25]\n",
        "df.loc[idx]"
      ],
      "execution_count": 44,
      "outputs": [
        {
          "output_type": "execute_result",
          "data": {
            "text/html": [
              "<div>\n",
              "<style scoped>\n",
              "    .dataframe tbody tr th:only-of-type {\n",
              "        vertical-align: middle;\n",
              "    }\n",
              "\n",
              "    .dataframe tbody tr th {\n",
              "        vertical-align: top;\n",
              "    }\n",
              "\n",
              "    .dataframe thead th {\n",
              "        text-align: right;\n",
              "    }\n",
              "</style>\n",
              "<table border=\"1\" class=\"dataframe\">\n",
              "  <thead>\n",
              "    <tr style=\"text-align: right;\">\n",
              "      <th></th>\n",
              "      <th>deliverydate</th>\n",
              "      <th>price</th>\n",
              "      <th>WIND_NL</th>\n",
              "      <th>lag24</th>\n",
              "      <th>lag48</th>\n",
              "      <th>lag72</th>\n",
              "      <th>lag168</th>\n",
              "    </tr>\n",
              "  </thead>\n",
              "  <tbody>\n",
              "    <tr>\n",
              "      <th>0</th>\n",
              "      <td>2013-01-02 00:00:00+01:00</td>\n",
              "      <td>0.3406</td>\n",
              "      <td>0.3625</td>\n",
              "      <td>NaN</td>\n",
              "      <td>NaN</td>\n",
              "      <td>NaN</td>\n",
              "      <td>NaN</td>\n",
              "    </tr>\n",
              "    <tr>\n",
              "      <th>1</th>\n",
              "      <td>2013-01-02 01:00:00+01:00</td>\n",
              "      <td>0.3386</td>\n",
              "      <td>0.3875</td>\n",
              "      <td>NaN</td>\n",
              "      <td>NaN</td>\n",
              "      <td>NaN</td>\n",
              "      <td>NaN</td>\n",
              "    </tr>\n",
              "    <tr>\n",
              "      <th>23</th>\n",
              "      <td>2013-01-02 23:00:00+01:00</td>\n",
              "      <td>0.4368</td>\n",
              "      <td>0.3700</td>\n",
              "      <td>NaN</td>\n",
              "      <td>NaN</td>\n",
              "      <td>NaN</td>\n",
              "      <td>NaN</td>\n",
              "    </tr>\n",
              "    <tr>\n",
              "      <th>24</th>\n",
              "      <td>2013-01-03 00:00:00+01:00</td>\n",
              "      <td>0.3824</td>\n",
              "      <td>0.4150</td>\n",
              "      <td>0.3406</td>\n",
              "      <td>NaN</td>\n",
              "      <td>NaN</td>\n",
              "      <td>NaN</td>\n",
              "    </tr>\n",
              "    <tr>\n",
              "      <th>25</th>\n",
              "      <td>2013-01-03 01:00:00+01:00</td>\n",
              "      <td>0.3440</td>\n",
              "      <td>0.4425</td>\n",
              "      <td>0.3386</td>\n",
              "      <td>NaN</td>\n",
              "      <td>NaN</td>\n",
              "      <td>NaN</td>\n",
              "    </tr>\n",
              "  </tbody>\n",
              "</table>\n",
              "</div>"
            ],
            "text/plain": [
              "                deliverydate   price  WIND_NL   lag24  lag48  lag72  lag168\n",
              "0  2013-01-02 00:00:00+01:00  0.3406   0.3625     NaN    NaN    NaN     NaN\n",
              "1  2013-01-02 01:00:00+01:00  0.3386   0.3875     NaN    NaN    NaN     NaN\n",
              "23 2013-01-02 23:00:00+01:00  0.4368   0.3700     NaN    NaN    NaN     NaN\n",
              "24 2013-01-03 00:00:00+01:00  0.3824   0.4150  0.3406    NaN    NaN     NaN\n",
              "25 2013-01-03 01:00:00+01:00  0.3440   0.4425  0.3386    NaN    NaN     NaN"
            ]
          },
          "metadata": {
            "tags": []
          },
          "execution_count": 44
        }
      ]
    },
    {
      "metadata": {
        "id": "lsYx2-dCkVyt",
        "colab_type": "code",
        "colab": {
          "base_uri": "https://localhost:8080/",
          "height": 111
        },
        "outputId": "a7edabb1-0bf4-4ea8-8a58-e669e24b82d3"
      },
      "cell_type": "code",
      "source": [
        "# remove rows with NaN\n",
        "df.dropna(axis=0, how='any',inplace=True)\n",
        "df.reset_index(drop=True,inplace=True)\n",
        "df.head(2)"
      ],
      "execution_count": 45,
      "outputs": [
        {
          "output_type": "execute_result",
          "data": {
            "text/html": [
              "<div>\n",
              "<style scoped>\n",
              "    .dataframe tbody tr th:only-of-type {\n",
              "        vertical-align: middle;\n",
              "    }\n",
              "\n",
              "    .dataframe tbody tr th {\n",
              "        vertical-align: top;\n",
              "    }\n",
              "\n",
              "    .dataframe thead th {\n",
              "        text-align: right;\n",
              "    }\n",
              "</style>\n",
              "<table border=\"1\" class=\"dataframe\">\n",
              "  <thead>\n",
              "    <tr style=\"text-align: right;\">\n",
              "      <th></th>\n",
              "      <th>deliverydate</th>\n",
              "      <th>price</th>\n",
              "      <th>WIND_NL</th>\n",
              "      <th>lag24</th>\n",
              "      <th>lag48</th>\n",
              "      <th>lag72</th>\n",
              "      <th>lag168</th>\n",
              "    </tr>\n",
              "  </thead>\n",
              "  <tbody>\n",
              "    <tr>\n",
              "      <th>0</th>\n",
              "      <td>2013-01-09 00:00:00+01:00</td>\n",
              "      <td>0.4423</td>\n",
              "      <td>0.1875</td>\n",
              "      <td>0.5000</td>\n",
              "      <td>0.4255</td>\n",
              "      <td>0.4500</td>\n",
              "      <td>0.3406</td>\n",
              "    </tr>\n",
              "    <tr>\n",
              "      <th>1</th>\n",
              "      <td>2013-01-09 01:00:00+01:00</td>\n",
              "      <td>0.4356</td>\n",
              "      <td>0.2125</td>\n",
              "      <td>0.5101</td>\n",
              "      <td>0.3395</td>\n",
              "      <td>0.3307</td>\n",
              "      <td>0.3386</td>\n",
              "    </tr>\n",
              "  </tbody>\n",
              "</table>\n",
              "</div>"
            ],
            "text/plain": [
              "               deliverydate   price  WIND_NL   lag24   lag48   lag72  lag168\n",
              "0 2013-01-09 00:00:00+01:00  0.4423   0.1875  0.5000  0.4255  0.4500  0.3406\n",
              "1 2013-01-09 01:00:00+01:00  0.4356   0.2125  0.5101  0.3395  0.3307  0.3386"
            ]
          },
          "metadata": {
            "tags": []
          },
          "execution_count": 45
        }
      ]
    },
    {
      "metadata": {
        "id": "YJv8z_e_frfC",
        "colab_type": "code",
        "colab": {}
      },
      "cell_type": "code",
      "source": [
        "# split in train and test\n",
        "idx_train = (df['deliverydate'].dt.year<=2016) & (df['deliverydate'].dt.year>=2014)\n",
        "idx_test = df['deliverydate'].dt.year>=2017\n",
        "\n",
        "df_train = df.loc[idx_train].reset_index(drop=True)\n",
        "df_test = df.loc[idx_test].reset_index(drop=True)"
      ],
      "execution_count": 0,
      "outputs": []
    },
    {
      "metadata": {
        "id": "cUVeBjOFiDnW",
        "colab_type": "code",
        "colab": {
          "base_uri": "https://localhost:8080/",
          "height": 111
        },
        "outputId": "6c849cc7-b3f9-49af-d0f2-20a1b765de32"
      },
      "cell_type": "code",
      "source": [
        "df_test.head(2)"
      ],
      "execution_count": 47,
      "outputs": [
        {
          "output_type": "execute_result",
          "data": {
            "text/html": [
              "<div>\n",
              "<style scoped>\n",
              "    .dataframe tbody tr th:only-of-type {\n",
              "        vertical-align: middle;\n",
              "    }\n",
              "\n",
              "    .dataframe tbody tr th {\n",
              "        vertical-align: top;\n",
              "    }\n",
              "\n",
              "    .dataframe thead th {\n",
              "        text-align: right;\n",
              "    }\n",
              "</style>\n",
              "<table border=\"1\" class=\"dataframe\">\n",
              "  <thead>\n",
              "    <tr style=\"text-align: right;\">\n",
              "      <th></th>\n",
              "      <th>deliverydate</th>\n",
              "      <th>price</th>\n",
              "      <th>WIND_NL</th>\n",
              "      <th>lag24</th>\n",
              "      <th>lag48</th>\n",
              "      <th>lag72</th>\n",
              "      <th>lag168</th>\n",
              "    </tr>\n",
              "  </thead>\n",
              "  <tbody>\n",
              "    <tr>\n",
              "      <th>0</th>\n",
              "      <td>2017-01-01 00:00:00+01:00</td>\n",
              "      <td>0.4200</td>\n",
              "      <td>0.490</td>\n",
              "      <td>0.4180</td>\n",
              "      <td>0.3601</td>\n",
              "      <td>0.422</td>\n",
              "      <td>0.3400</td>\n",
              "    </tr>\n",
              "    <tr>\n",
              "      <th>1</th>\n",
              "      <td>2017-01-01 01:00:00+01:00</td>\n",
              "      <td>0.4994</td>\n",
              "      <td>0.495</td>\n",
              "      <td>0.4084</td>\n",
              "      <td>0.3596</td>\n",
              "      <td>0.393</td>\n",
              "      <td>0.2949</td>\n",
              "    </tr>\n",
              "  </tbody>\n",
              "</table>\n",
              "</div>"
            ],
            "text/plain": [
              "               deliverydate   price  WIND_NL   lag24   lag48  lag72  lag168\n",
              "0 2017-01-01 00:00:00+01:00  0.4200    0.490  0.4180  0.3601  0.422  0.3400\n",
              "1 2017-01-01 01:00:00+01:00  0.4994    0.495  0.4084  0.3596  0.393  0.2949"
            ]
          },
          "metadata": {
            "tags": []
          },
          "execution_count": 47
        }
      ]
    },
    {
      "metadata": {
        "id": "fnS3H5BgiQLV",
        "colab_type": "code",
        "colab": {}
      },
      "cell_type": "code",
      "source": [
        "# select features from df\n",
        "#features = ['lag24','lag48','lag168','lag336']\n",
        "#features = ['lag24']\n",
        "#features = ['lag24','lag48']\n",
        "features = ['lag24','lag48','lag168']\n",
        "\n",
        "X_train = df_train[features]\n",
        "y_train = df_train['price']"
      ],
      "execution_count": 0,
      "outputs": []
    },
    {
      "metadata": {
        "id": "WaEuMImBi14s",
        "colab_type": "code",
        "colab": {
          "base_uri": "https://localhost:8080/",
          "height": 34
        },
        "outputId": "5ebfc4b2-9326-40b1-8e97-3160d7f9191f"
      },
      "cell_type": "code",
      "source": [
        "# fit the model\n",
        "lm = LinearRegression()  \n",
        "lm.fit(X_train, y_train) "
      ],
      "execution_count": 49,
      "outputs": [
        {
          "output_type": "execute_result",
          "data": {
            "text/plain": [
              "LinearRegression(copy_X=True, fit_intercept=True, n_jobs=1, normalize=False)"
            ]
          },
          "metadata": {
            "tags": []
          },
          "execution_count": 49
        }
      ]
    },
    {
      "metadata": {
        "id": "t7SqEYiaQ55P",
        "colab_type": "code",
        "colab": {
          "base_uri": "https://localhost:8080/",
          "height": 51
        },
        "outputId": "73341a7a-468a-49e3-9354-df07d9ad7459"
      },
      "cell_type": "code",
      "source": [
        "print(lm.coef_)\n",
        "print(lm.intercept_)"
      ],
      "execution_count": 50,
      "outputs": [
        {
          "output_type": "stream",
          "text": [
            "[0.35432775 0.10695229 0.43169784]\n",
            "0.0404056052440846\n"
          ],
          "name": "stdout"
        }
      ]
    },
    {
      "metadata": {
        "id": "FrnnJ0a9ja-b",
        "colab_type": "code",
        "colab": {}
      },
      "cell_type": "code",
      "source": [
        "# Make predictions using the testing set\n",
        "X_test = df_test[features]\n",
        "y_pred = lm.predict(X_test)"
      ],
      "execution_count": 0,
      "outputs": []
    },
    {
      "metadata": {
        "id": "JHDBft7TA4Ub",
        "colab_type": "code",
        "colab": {
          "base_uri": "https://localhost:8080/",
          "height": 34
        },
        "outputId": "25bde854-f6a5-429b-dea5-98eb921197d4"
      },
      "cell_type": "code",
      "source": [
        "# calc the mean squared error\n",
        "mean_squared_error(df_train['price'], lm.predict(X_train))"
      ],
      "execution_count": 52,
      "outputs": [
        {
          "output_type": "execute_result",
          "data": {
            "text/plain": [
              "0.0050178297998335385"
            ]
          },
          "metadata": {
            "tags": []
          },
          "execution_count": 52
        }
      ]
    },
    {
      "metadata": {
        "id": "do7tBrkllbtP",
        "colab_type": "code",
        "colab": {
          "base_uri": "https://localhost:8080/",
          "height": 34
        },
        "outputId": "473d9907-bab2-4a2a-89a7-2158a158aa94"
      },
      "cell_type": "code",
      "source": [
        "# calc the mean absolute error\n",
        "mean_absolute_error(df_test['price'], y_pred)*100"
      ],
      "execution_count": 53,
      "outputs": [
        {
          "output_type": "execute_result",
          "data": {
            "text/plain": [
              "6.053186078592417"
            ]
          },
          "metadata": {
            "tags": []
          },
          "execution_count": 53
        }
      ]
    },
    {
      "metadata": {
        "id": "VIkNI7JPVcvm",
        "colab_type": "text"
      },
      "cell_type": "markdown",
      "source": [
        "## Make model per weekday"
      ]
    },
    {
      "metadata": {
        "id": "0eS1MdTDVfew",
        "colab_type": "code",
        "colab": {}
      },
      "cell_type": "code",
      "source": [
        "df_test['pred'] = None\n",
        "\n",
        "for i in [0,1,2,3,4,5,6]:\n",
        "#for i in [0]:\n",
        "  idx = df_train['deliverydate'].dt.weekday == i\n",
        "  idx_test = df_test['deliverydate'].dt.weekday == i\n",
        "  \n",
        "  X_train = df_train.loc[idx,features]\n",
        "  y_train = df_train.loc[idx,'price']\n",
        "  \n",
        "   # fit the model\n",
        "  lm = LinearRegression()  \n",
        "  lm.fit(X_train, y_train) \n",
        "  \n",
        "  # Make predictions using the testing set\n",
        "  X_test = df_test.loc[idx_test,features]\n",
        "  y_pred = lm.predict(X_test)\n",
        "  df_test.loc[idx_test,'pred'] = y_pred"
      ],
      "execution_count": 0,
      "outputs": []
    },
    {
      "metadata": {
        "id": "UIZVDzC2VkLA",
        "colab_type": "code",
        "colab": {
          "base_uri": "https://localhost:8080/",
          "height": 34
        },
        "outputId": "171b9093-f0df-488b-9f2f-c073c0013e90"
      },
      "cell_type": "code",
      "source": [
        "# calc the mean absolute error\n",
        "mean_absolute_error(df_test['pred'], df_test['price'])"
      ],
      "execution_count": 55,
      "outputs": [
        {
          "output_type": "execute_result",
          "data": {
            "text/plain": [
              "0.057304081794670655"
            ]
          },
          "metadata": {
            "tags": []
          },
          "execution_count": 55
        }
      ]
    },
    {
      "metadata": {
        "id": "cGllGh5_sluy",
        "colab_type": "text"
      },
      "cell_type": "markdown",
      "source": [
        "## Include wind"
      ]
    },
    {
      "metadata": {
        "id": "KO29h5p6aek4",
        "colab_type": "code",
        "colab": {}
      },
      "cell_type": "code",
      "source": [
        "features = ['lag24','lag48','lag168','WIND_NL']\n",
        "\n",
        "X_train = df_train[features]\n",
        "y_train = df_train['price']"
      ],
      "execution_count": 0,
      "outputs": []
    },
    {
      "metadata": {
        "id": "n3UCoHOjs7hr",
        "colab_type": "code",
        "colab": {
          "base_uri": "https://localhost:8080/",
          "height": 34
        },
        "outputId": "a736d729-7c82-4b3e-f17c-0589dfc77135"
      },
      "cell_type": "code",
      "source": [
        "# fit the model\n",
        "lm = LinearRegression()  \n",
        "lm.fit(X_train, y_train) "
      ],
      "execution_count": 57,
      "outputs": [
        {
          "output_type": "execute_result",
          "data": {
            "text/plain": [
              "LinearRegression(copy_X=True, fit_intercept=True, n_jobs=1, normalize=False)"
            ]
          },
          "metadata": {
            "tags": []
          },
          "execution_count": 57
        }
      ]
    },
    {
      "metadata": {
        "id": "1biD4nWZs9yN",
        "colab_type": "code",
        "colab": {
          "base_uri": "https://localhost:8080/",
          "height": 51
        },
        "outputId": "4c7ea13e-01dc-4a2c-e13d-0cb150462238"
      },
      "cell_type": "code",
      "source": [
        "print(lm.coef_)\n",
        "print(lm.intercept_)"
      ],
      "execution_count": 58,
      "outputs": [
        {
          "output_type": "stream",
          "text": [
            "[ 0.33193903  0.10682326  0.44683797 -0.10458806]\n",
            "0.06391820695098765\n"
          ],
          "name": "stdout"
        }
      ]
    },
    {
      "metadata": {
        "id": "qVPXyE0us_ud",
        "colab_type": "code",
        "colab": {}
      },
      "cell_type": "code",
      "source": [
        "# Make predictions using the testing set\n",
        "X_test = df_test[features]\n",
        "y_pred = lm.predict(X_test)"
      ],
      "execution_count": 0,
      "outputs": []
    },
    {
      "metadata": {
        "id": "XDmnTQWNtC7j",
        "colab_type": "code",
        "colab": {
          "base_uri": "https://localhost:8080/",
          "height": 34
        },
        "outputId": "76dc913f-9200-4a19-8685-1263cb242c68"
      },
      "cell_type": "code",
      "source": [
        "# calc the mean squared error\n",
        "mean_squared_error(df_train['price'], lm.predict(X_train))"
      ],
      "execution_count": 60,
      "outputs": [
        {
          "output_type": "execute_result",
          "data": {
            "text/plain": [
              "0.004712417299148453"
            ]
          },
          "metadata": {
            "tags": []
          },
          "execution_count": 60
        }
      ]
    },
    {
      "metadata": {
        "id": "hQdO-lBRtFNT",
        "colab_type": "code",
        "colab": {
          "base_uri": "https://localhost:8080/",
          "height": 34
        },
        "outputId": "4503ccd6-d98d-4dcb-e908-3db3640bc082"
      },
      "cell_type": "code",
      "source": [
        "# calc the mean absolute error\n",
        "mean_absolute_error(df_test['price'], y_pred)*100"
      ],
      "execution_count": 61,
      "outputs": [
        {
          "output_type": "execute_result",
          "data": {
            "text/plain": [
              "5.982786477942622"
            ]
          },
          "metadata": {
            "tags": []
          },
          "execution_count": 61
        }
      ]
    },
    {
      "metadata": {
        "id": "3IIJ7VaZtK8x",
        "colab_type": "text"
      },
      "cell_type": "markdown",
      "source": [
        "## Wind per weekday"
      ]
    },
    {
      "metadata": {
        "id": "fEPhgoVutNLT",
        "colab_type": "code",
        "colab": {}
      },
      "cell_type": "code",
      "source": [
        "df_test['pred'] = None\n",
        "\n",
        "for i in [0,1,2,3,4,5,6]:\n",
        "#for i in [0]:\n",
        "  idx = df_train['deliverydate'].dt.weekday == i\n",
        "  idx_test = df_test['deliverydate'].dt.weekday == i\n",
        "  \n",
        "  X_train = df_train.loc[idx,features]\n",
        "  y_train = df_train.loc[idx,'price']\n",
        "  \n",
        "   # fit the model\n",
        "  lm = LinearRegression()  \n",
        "  lm.fit(X_train, y_train) \n",
        "  \n",
        "  # Make predictions using the testing set\n",
        "  X_test = df_test.loc[idx_test,features]\n",
        "  y_pred = lm.predict(X_test)\n",
        "  df_test.loc[idx_test,'pred'] = y_pred"
      ],
      "execution_count": 0,
      "outputs": []
    },
    {
      "metadata": {
        "id": "U7ZF6TsgtRde",
        "colab_type": "code",
        "colab": {
          "base_uri": "https://localhost:8080/",
          "height": 34
        },
        "outputId": "6063a6bb-007d-4d65-d4fc-eca2e8aa2846"
      },
      "cell_type": "code",
      "source": [
        "# calc the mean absolute error\n",
        "mean_absolute_error(df_test['pred'], df_test['price'])*100"
      ],
      "execution_count": 63,
      "outputs": [
        {
          "output_type": "execute_result",
          "data": {
            "text/plain": [
              "5.662037612406183"
            ]
          },
          "metadata": {
            "tags": []
          },
          "execution_count": 63
        }
      ]
    },
    {
      "metadata": {
        "id": "P_tWvs2otTuF",
        "colab_type": "code",
        "colab": {}
      },
      "cell_type": "code",
      "source": [
        ""
      ],
      "execution_count": 0,
      "outputs": []
    }
  ]
}