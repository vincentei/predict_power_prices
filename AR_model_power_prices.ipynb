{
  "nbformat": 4,
  "nbformat_minor": 0,
  "metadata": {
    "colab": {
      "name": "AR_model_power_prices.ipynb",
      "version": "0.3.2",
      "provenance": [],
      "collapsed_sections": []
    },
    "kernelspec": {
      "name": "python3",
      "display_name": "Python 3"
    }
  },
  "cells": [
    {
      "cell_type": "markdown",
      "metadata": {
        "id": "view-in-github",
        "colab_type": "text"
      },
      "source": [
        "[View in Colaboratory](https://colab.research.google.com/github/vincentei/predict_power_prices/blob/master/AR_model_power_prices.ipynb)"
      ]
    },
    {
      "metadata": {
        "id": "t7ewcXIjbfRK",
        "colab_type": "code",
        "colab": {}
      },
      "cell_type": "code",
      "source": [
        "import pandas as pd\n",
        "from sklearn.linear_model import LinearRegression\n",
        "from sklearn.metrics import mean_absolute_error\n",
        "import numpy as np\n",
        "import matplotlib.pyplot as plt\n",
        "%matplotlib inline\n",
        "import datetime as dt"
      ],
      "execution_count": 0,
      "outputs": []
    },
    {
      "metadata": {
        "id": "SlYnSZA1cSHN",
        "colab_type": "code",
        "colab": {}
      },
      "cell_type": "code",
      "source": [
        "# import the data\n",
        "df = pd.read_csv('prices.csv')"
      ],
      "execution_count": 0,
      "outputs": []
    },
    {
      "metadata": {
        "id": "YgMlaZn9dDJv",
        "colab_type": "code",
        "colab": {
          "base_uri": "https://localhost:8080/",
          "height": 111
        },
        "outputId": "65e5f6a3-8667-43cf-fe1d-d9fc26c7cf14"
      },
      "cell_type": "code",
      "source": [
        "# convert to datetime\n",
        "df['deliverydate'] = pd.to_datetime(df['deliverydate'],format = '%d-%m-%Y %H:%M:%S')\n",
        "df['deliverydate'] = df['deliverydate'].dt.tz_localize('Europe/Amsterdam',ambiguous='infer')\n",
        "df.head(2)"
      ],
      "execution_count": 160,
      "outputs": [
        {
          "output_type": "execute_result",
          "data": {
            "text/html": [
              "<div>\n",
              "<style scoped>\n",
              "    .dataframe tbody tr th:only-of-type {\n",
              "        vertical-align: middle;\n",
              "    }\n",
              "\n",
              "    .dataframe tbody tr th {\n",
              "        vertical-align: top;\n",
              "    }\n",
              "\n",
              "    .dataframe thead th {\n",
              "        text-align: right;\n",
              "    }\n",
              "</style>\n",
              "<table border=\"1\" class=\"dataframe\">\n",
              "  <thead>\n",
              "    <tr style=\"text-align: right;\">\n",
              "      <th></th>\n",
              "      <th>deliverydate</th>\n",
              "      <th>price</th>\n",
              "    </tr>\n",
              "  </thead>\n",
              "  <tbody>\n",
              "    <tr>\n",
              "      <th>0</th>\n",
              "      <td>2010-01-01 00:00:00+01:00</td>\n",
              "      <td>13.20</td>\n",
              "    </tr>\n",
              "    <tr>\n",
              "      <th>1</th>\n",
              "      <td>2010-01-01 01:00:00+01:00</td>\n",
              "      <td>13.14</td>\n",
              "    </tr>\n",
              "  </tbody>\n",
              "</table>\n",
              "</div>"
            ],
            "text/plain": [
              "               deliverydate  price\n",
              "0 2010-01-01 00:00:00+01:00  13.20\n",
              "1 2010-01-01 01:00:00+01:00  13.14"
            ]
          },
          "metadata": {
            "tags": []
          },
          "execution_count": 160
        }
      ]
    },
    {
      "metadata": {
        "id": "fpbDTFz_tu90",
        "colab_type": "code",
        "colab": {
          "base_uri": "https://localhost:8080/",
          "height": 34
        },
        "outputId": "4bfb2f1a-f7ea-4202-acdf-a41b62cc38d4"
      },
      "cell_type": "code",
      "source": [
        "a = df['deliverydate'] == dt.datetime(2014,6,2,0,0)\n",
        "a = df.index[idx]\n",
        "print(a.astype('int'))"
      ],
      "execution_count": 186,
      "outputs": [
        {
          "output_type": "stream",
          "text": [
            "Int64Index([38713], dtype='int64')\n"
          ],
          "name": "stdout"
        }
      ]
    },
    {
      "metadata": {
        "id": "7bbC1dJUrXKy",
        "colab_type": "code",
        "colab": {
          "base_uri": "https://localhost:8080/",
          "height": 282
        },
        "outputId": "a1c1ca20-fbfd-4713-e8d1-63b4a9b32da7"
      },
      "cell_type": "code",
      "source": [
        "# plot 1 week of power prices\n",
        "a = 38713\n",
        "plt.plot(df['price'][a:a + 168])"
      ],
      "execution_count": 185,
      "outputs": [
        {
          "output_type": "execute_result",
          "data": {
            "text/plain": [
              "[<matplotlib.lines.Line2D at 0x7fa2d4c63e48>]"
            ]
          },
          "metadata": {
            "tags": []
          },
          "execution_count": 185
        },
        {
          "output_type": "display_data",
          "data": {
            "image/png": "[encoded data removed]",
            "text/plain": [
              "<matplotlib.figure.Figure at 0x7fa2d4ce0dd8>"
            ]
          },
          "metadata": {
            "tags": []
          }
        }
      ]
    },
    {
      "metadata": {
        "id": "Qh7YHAQ5dYXp",
        "colab_type": "code",
        "colab": {}
      },
      "cell_type": "code",
      "source": [
        "# make lags\n",
        "lags = [1,2,3,7,14] # number of days\n",
        "\n",
        "for i in lags:\n",
        "        col_name = 'lag' + str(i*24)\n",
        "        df[col_name] = df['price'].shift(i*24)\n"
      ],
      "execution_count": 0,
      "outputs": []
    },
    {
      "metadata": {
        "id": "_2N5FXd-eZAY",
        "colab_type": "code",
        "colab": {
          "base_uri": "https://localhost:8080/",
          "height": 204
        },
        "outputId": "8816f8c4-1e2d-496d-c558-ea20cf8ecefc"
      },
      "cell_type": "code",
      "source": [
        "idx = [0,1,23,24,25]\n",
        "df.loc[idx]"
      ],
      "execution_count": 142,
      "outputs": [
        {
          "output_type": "execute_result",
          "data": {
            "text/html": [
              "<div>\n",
              "<style scoped>\n",
              "    .dataframe tbody tr th:only-of-type {\n",
              "        vertical-align: middle;\n",
              "    }\n",
              "\n",
              "    .dataframe tbody tr th {\n",
              "        vertical-align: top;\n",
              "    }\n",
              "\n",
              "    .dataframe thead th {\n",
              "        text-align: right;\n",
              "    }\n",
              "</style>\n",
              "<table border=\"1\" class=\"dataframe\">\n",
              "  <thead>\n",
              "    <tr style=\"text-align: right;\">\n",
              "      <th></th>\n",
              "      <th>deliverydate</th>\n",
              "      <th>price</th>\n",
              "      <th>lag24</th>\n",
              "      <th>lag48</th>\n",
              "      <th>lag72</th>\n",
              "      <th>lag168</th>\n",
              "      <th>lag336</th>\n",
              "    </tr>\n",
              "  </thead>\n",
              "  <tbody>\n",
              "    <tr>\n",
              "      <th>0</th>\n",
              "      <td>2010-01-01 00:00:00+01:00</td>\n",
              "      <td>13.20</td>\n",
              "      <td>NaN</td>\n",
              "      <td>NaN</td>\n",
              "      <td>NaN</td>\n",
              "      <td>NaN</td>\n",
              "      <td>NaN</td>\n",
              "    </tr>\n",
              "    <tr>\n",
              "      <th>1</th>\n",
              "      <td>2010-01-01 01:00:00+01:00</td>\n",
              "      <td>13.14</td>\n",
              "      <td>NaN</td>\n",
              "      <td>NaN</td>\n",
              "      <td>NaN</td>\n",
              "      <td>NaN</td>\n",
              "      <td>NaN</td>\n",
              "    </tr>\n",
              "    <tr>\n",
              "      <th>23</th>\n",
              "      <td>2010-01-01 23:00:00+01:00</td>\n",
              "      <td>31.06</td>\n",
              "      <td>NaN</td>\n",
              "      <td>NaN</td>\n",
              "      <td>NaN</td>\n",
              "      <td>NaN</td>\n",
              "      <td>NaN</td>\n",
              "    </tr>\n",
              "    <tr>\n",
              "      <th>24</th>\n",
              "      <td>2010-01-02 00:00:00+01:00</td>\n",
              "      <td>26.75</td>\n",
              "      <td>13.20</td>\n",
              "      <td>NaN</td>\n",
              "      <td>NaN</td>\n",
              "      <td>NaN</td>\n",
              "      <td>NaN</td>\n",
              "    </tr>\n",
              "    <tr>\n",
              "      <th>25</th>\n",
              "      <td>2010-01-02 01:00:00+01:00</td>\n",
              "      <td>24.25</td>\n",
              "      <td>13.14</td>\n",
              "      <td>NaN</td>\n",
              "      <td>NaN</td>\n",
              "      <td>NaN</td>\n",
              "      <td>NaN</td>\n",
              "    </tr>\n",
              "  </tbody>\n",
              "</table>\n",
              "</div>"
            ],
            "text/plain": [
              "                deliverydate  price  lag24  lag48  lag72  lag168  lag336\n",
              "0  2010-01-01 00:00:00+01:00  13.20    NaN    NaN    NaN     NaN     NaN\n",
              "1  2010-01-01 01:00:00+01:00  13.14    NaN    NaN    NaN     NaN     NaN\n",
              "23 2010-01-01 23:00:00+01:00  31.06    NaN    NaN    NaN     NaN     NaN\n",
              "24 2010-01-02 00:00:00+01:00  26.75  13.20    NaN    NaN     NaN     NaN\n",
              "25 2010-01-02 01:00:00+01:00  24.25  13.14    NaN    NaN     NaN     NaN"
            ]
          },
          "metadata": {
            "tags": []
          },
          "execution_count": 142
        }
      ]
    },
    {
      "metadata": {
        "id": "lsYx2-dCkVyt",
        "colab_type": "code",
        "colab": {
          "base_uri": "https://localhost:8080/",
          "height": 111
        },
        "outputId": "52438bad-a648-49fc-f159-dd072501d3c7"
      },
      "cell_type": "code",
      "source": [
        "# remove rows with NaN\n",
        "df.dropna(axis=0, how='any',inplace=True)\n",
        "df.reset_index(drop=True,inplace=True)\n",
        "df.head(2)"
      ],
      "execution_count": 143,
      "outputs": [
        {
          "output_type": "execute_result",
          "data": {
            "text/html": [
              "<div>\n",
              "<style scoped>\n",
              "    .dataframe tbody tr th:only-of-type {\n",
              "        vertical-align: middle;\n",
              "    }\n",
              "\n",
              "    .dataframe tbody tr th {\n",
              "        vertical-align: top;\n",
              "    }\n",
              "\n",
              "    .dataframe thead th {\n",
              "        text-align: right;\n",
              "    }\n",
              "</style>\n",
              "<table border=\"1\" class=\"dataframe\">\n",
              "  <thead>\n",
              "    <tr style=\"text-align: right;\">\n",
              "      <th></th>\n",
              "      <th>deliverydate</th>\n",
              "      <th>price</th>\n",
              "      <th>lag24</th>\n",
              "      <th>lag48</th>\n",
              "      <th>lag72</th>\n",
              "      <th>lag168</th>\n",
              "      <th>lag336</th>\n",
              "    </tr>\n",
              "  </thead>\n",
              "  <tbody>\n",
              "    <tr>\n",
              "      <th>0</th>\n",
              "      <td>2010-01-15 00:00:00+01:00</td>\n",
              "      <td>40.3</td>\n",
              "      <td>38.72</td>\n",
              "      <td>34.93</td>\n",
              "      <td>41.84</td>\n",
              "      <td>39.5</td>\n",
              "      <td>13.20</td>\n",
              "    </tr>\n",
              "    <tr>\n",
              "      <th>1</th>\n",
              "      <td>2010-01-15 01:00:00+01:00</td>\n",
              "      <td>37.5</td>\n",
              "      <td>36.50</td>\n",
              "      <td>31.78</td>\n",
              "      <td>37.54</td>\n",
              "      <td>38.8</td>\n",
              "      <td>13.14</td>\n",
              "    </tr>\n",
              "  </tbody>\n",
              "</table>\n",
              "</div>"
            ],
            "text/plain": [
              "               deliverydate  price  lag24  lag48  lag72  lag168  lag336\n",
              "0 2010-01-15 00:00:00+01:00   40.3  38.72  34.93  41.84    39.5   13.20\n",
              "1 2010-01-15 01:00:00+01:00   37.5  36.50  31.78  37.54    38.8   13.14"
            ]
          },
          "metadata": {
            "tags": []
          },
          "execution_count": 143
        }
      ]
    },
    {
      "metadata": {
        "id": "YJv8z_e_frfC",
        "colab_type": "code",
        "colab": {}
      },
      "cell_type": "code",
      "source": [
        "# split in train and test\n",
        "idx = (df['deliverydate'].dt.year<=2016) & (df['deliverydate'].dt.year>=2014)\n",
        "\n",
        "df_train = df.loc[idx].reset_index(drop=True)\n",
        "df_test = df.loc[~idx].reset_index(drop=True)"
      ],
      "execution_count": 0,
      "outputs": []
    },
    {
      "metadata": {
        "id": "cUVeBjOFiDnW",
        "colab_type": "code",
        "colab": {
          "base_uri": "https://localhost:8080/",
          "height": 111
        },
        "outputId": "71815fa9-a7d8-4e81-a2ef-42da3cdcaabe"
      },
      "cell_type": "code",
      "source": [
        "df_test.head(2)"
      ],
      "execution_count": 145,
      "outputs": [
        {
          "output_type": "execute_result",
          "data": {
            "text/html": [
              "<div>\n",
              "<style scoped>\n",
              "    .dataframe tbody tr th:only-of-type {\n",
              "        vertical-align: middle;\n",
              "    }\n",
              "\n",
              "    .dataframe tbody tr th {\n",
              "        vertical-align: top;\n",
              "    }\n",
              "\n",
              "    .dataframe thead th {\n",
              "        text-align: right;\n",
              "    }\n",
              "</style>\n",
              "<table border=\"1\" class=\"dataframe\">\n",
              "  <thead>\n",
              "    <tr style=\"text-align: right;\">\n",
              "      <th></th>\n",
              "      <th>deliverydate</th>\n",
              "      <th>price</th>\n",
              "      <th>lag24</th>\n",
              "      <th>lag48</th>\n",
              "      <th>lag72</th>\n",
              "      <th>lag168</th>\n",
              "      <th>lag336</th>\n",
              "    </tr>\n",
              "  </thead>\n",
              "  <tbody>\n",
              "    <tr>\n",
              "      <th>0</th>\n",
              "      <td>2010-01-15 00:00:00+01:00</td>\n",
              "      <td>40.3</td>\n",
              "      <td>38.72</td>\n",
              "      <td>34.93</td>\n",
              "      <td>41.84</td>\n",
              "      <td>39.5</td>\n",
              "      <td>13.20</td>\n",
              "    </tr>\n",
              "    <tr>\n",
              "      <th>1</th>\n",
              "      <td>2010-01-15 01:00:00+01:00</td>\n",
              "      <td>37.5</td>\n",
              "      <td>36.50</td>\n",
              "      <td>31.78</td>\n",
              "      <td>37.54</td>\n",
              "      <td>38.8</td>\n",
              "      <td>13.14</td>\n",
              "    </tr>\n",
              "  </tbody>\n",
              "</table>\n",
              "</div>"
            ],
            "text/plain": [
              "               deliverydate  price  lag24  lag48  lag72  lag168  lag336\n",
              "0 2010-01-15 00:00:00+01:00   40.3  38.72  34.93  41.84    39.5   13.20\n",
              "1 2010-01-15 01:00:00+01:00   37.5  36.50  31.78  37.54    38.8   13.14"
            ]
          },
          "metadata": {
            "tags": []
          },
          "execution_count": 145
        }
      ]
    },
    {
      "metadata": {
        "id": "fnS3H5BgiQLV",
        "colab_type": "code",
        "colab": {}
      },
      "cell_type": "code",
      "source": [
        "# select features from df\n",
        "features = ['lag24','lag48','lag168','lag336']\n",
        "\n",
        "X_train = df_train[features]\n",
        "y_train = df_train['price']"
      ],
      "execution_count": 0,
      "outputs": []
    },
    {
      "metadata": {
        "id": "WaEuMImBi14s",
        "colab_type": "code",
        "colab": {
          "base_uri": "https://localhost:8080/",
          "height": 34
        },
        "outputId": "e69f828b-1648-4467-8bd4-9a2cfb7db2c3"
      },
      "cell_type": "code",
      "source": [
        "# fit the model\n",
        "lm = LinearRegression()  \n",
        "lm.fit(X_train, y_train) "
      ],
      "execution_count": 153,
      "outputs": [
        {
          "output_type": "execute_result",
          "data": {
            "text/plain": [
              "LinearRegression(copy_X=True, fit_intercept=True, n_jobs=1, normalize=False)"
            ]
          },
          "metadata": {
            "tags": []
          },
          "execution_count": 153
        }
      ]
    },
    {
      "metadata": {
        "id": "FrnnJ0a9ja-b",
        "colab_type": "code",
        "colab": {}
      },
      "cell_type": "code",
      "source": [
        "# Make predictions using the testing set\n",
        "X_test = df_test[features]\n",
        "y_pred = lm.predict(X_test)"
      ],
      "execution_count": 0,
      "outputs": []
    },
    {
      "metadata": {
        "id": "do7tBrkllbtP",
        "colab_type": "code",
        "colab": {
          "base_uri": "https://localhost:8080/",
          "height": 34
        },
        "outputId": "883d95f0-ff4c-4fa5-adaf-e3af99197da1"
      },
      "cell_type": "code",
      "source": [
        "# calc the mean absolute error\n",
        "mean_absolute_error(df_test['price'], y_pred)"
      ],
      "execution_count": 155,
      "outputs": [
        {
          "output_type": "execute_result",
          "data": {
            "text/plain": [
              "5.517704927563496"
            ]
          },
          "metadata": {
            "tags": []
          },
          "execution_count": 155
        }
      ]
    },
    {
      "metadata": {
        "id": "gsm5rJgpoALD",
        "colab_type": "code",
        "colab": {}
      },
      "cell_type": "code",
      "source": [
        ""
      ],
      "execution_count": 0,
      "outputs": []
    }
  ]
}