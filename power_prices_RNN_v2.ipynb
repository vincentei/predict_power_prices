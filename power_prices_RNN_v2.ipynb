{
  "nbformat": 4,
  "nbformat_minor": 0,
  "metadata": {
    "colab": {
      "name": "power_prices_RNN_v2.ipynb",
      "version": "0.3.2",
      "provenance": [],
      "collapsed_sections": []
    },
    "kernelspec": {
      "name": "python3",
      "display_name": "Python 3"
    },
    "accelerator": "GPU"
  },
  "cells": [
    {
      "cell_type": "markdown",
      "metadata": {
        "id": "view-in-github",
        "colab_type": "text"
      },
      "source": [
        "[View in Colaboratory](https://colab.research.google.com/github/vincentei/predict_power_prices/blob/master/power_prices_RNN_v2.ipynb)"
      ]
    },
    {
      "metadata": {
        "id": "Ad4K4-Et1_Yl",
        "colab_type": "code",
        "colab": {}
      },
      "cell_type": "code",
      "source": [
        "import numpy as np\n",
        "import matplotlib.pyplot as plt\n",
        "import pandas as pd\n",
        "import math\n",
        "import datetime as dt\n",
        "\n",
        "from keras.models import Sequential\n",
        "from keras.layers import Dense,LSTM,Dropout,Activation,GRU,RNN,TimeDistributed,RepeatVector,SimpleRNN,CuDNNGRU\n",
        "\n",
        "from sklearn.preprocessing import MinMaxScaler\n",
        "from sklearn.metrics import mean_squared_error,mean_absolute_error"
      ],
      "execution_count": 0,
      "outputs": []
    },
    {
      "metadata": {
        "id": "R2pPcol22Xr1",
        "colab_type": "code",
        "colab": {}
      },
      "cell_type": "code",
      "source": [
        "needUpload = True\n",
        "days_look_back = 7"
      ],
      "execution_count": 0,
      "outputs": []
    },
    {
      "metadata": {
        "id": "q7RgKRWb2Z0d",
        "colab_type": "code",
        "colab": {
          "resources": {
            "http://localhost:8080/nbextensions/google.colab/files.js": {
              "data": "Ly8gQ29weXJpZ2h0IDIwMTcgR29vZ2xlIExMQwovLwovLyBMaWNlbnNlZCB1bmRlciB0aGUgQXBhY2hlIExpY2Vuc2UsIFZlcnNpb24gMi4wICh0aGUgIkxpY2Vuc2UiKTsKLy8geW91IG1heSBub3QgdXNlIHRoaXMgZmlsZSBleGNlcHQgaW4gY29tcGxpYW5jZSB3aXRoIHRoZSBMaWNlbnNlLgovLyBZb3UgbWF5IG9idGFpbiBhIGNvcHkgb2YgdGhlIExpY2Vuc2UgYXQKLy8KLy8gICAgICBodHRwOi8vd3d3LmFwYWNoZS5vcmcvbGljZW5zZXMvTElDRU5TRS0yLjAKLy8KLy8gVW5sZXNzIHJlcXVpcmVkIGJ5IGFwcGxpY2FibGUgbGF3IG9yIGFncmVlZCB0byBpbiB3cml0aW5nLCBzb2Z0d2FyZQovLyBkaXN0cmlidXRlZCB1bmRlciB0aGUgTGljZW5zZSBpcyBkaXN0cmlidXRlZCBvbiBhbiAiQVMgSVMiIEJBU0lTLAovLyBXSVRIT1VUIFdBUlJBTlRJRVMgT1IgQ09ORElUSU9OUyBPRiBBTlkgS0lORCwgZWl0aGVyIGV4cHJlc3Mgb3IgaW1wbGllZC4KLy8gU2VlIHRoZSBMaWNlbnNlIGZvciB0aGUgc3BlY2lmaWMgbGFuZ3VhZ2UgZ292ZXJuaW5nIHBlcm1pc3Npb25zIGFuZAovLyBsaW1pdGF0aW9ucyB1bmRlciB0aGUgTGljZW5zZS4KCi8qKgogKiBAZmlsZW92ZXJ2aWV3IEhlbHBlcnMgZm9yIGdvb2dsZS5jb2xhYiBQeXRob24gbW9kdWxlLgogKi8KKGZ1bmN0aW9uKHNjb3BlKSB7CmZ1bmN0aW9uIHNwYW4odGV4dCwgc3R5bGVBdHRyaWJ1dGVzID0ge30pIHsKICBjb25zdCBlbGVtZW50ID0gZG9jdW1lbnQuY3JlYXRlRWxlbWVudCgnc3BhbicpOwogIGVsZW1lbnQudGV4dENvbnRlbnQgPSB0ZXh0OwogIGZvciAoY29uc3Qga2V5IG9mIE9iamVjdC5rZXlzKHN0eWxlQXR0cmlidXRlcykpIHsKICAgIGVsZW1lbnQuc3R5bGVba2V5XSA9IHN0eWxlQXR0cmlidXRlc1trZXldOwogIH0KICByZXR1cm4gZWxlbWVudDsKfQoKLy8gTWF4IG51bWJlciBvZiBieXRlcyB3aGljaCB3aWxsIGJlIHVwbG9hZGVkIGF0IGEgdGltZS4KY29uc3QgTUFYX1BBWUxPQURfU0laRSA9IDEwMCAqIDEwMjQ7Ci8vIE1heCBhbW91bnQgb2YgdGltZSB0byBibG9jayB3YWl0aW5nIGZvciB0aGUgdXNlci4KY29uc3QgRklMRV9DSEFOR0VfVElNRU9VVF9NUyA9IDMwICogMTAwMDsKCmZ1bmN0aW9uIF91cGxvYWRGaWxlcyhpbnB1dElkLCBvdXRwdXRJZCkgewogIGNvbnN0IHN0ZXBzID0gdXBsb2FkRmlsZXNTdGVwKGlucHV0SWQsIG91dHB1dElkKTsKICBjb25zdCBvdXRwdXRFbGVtZW50ID0gZG9jdW1lbnQuZ2V0RWxlbWVudEJ5SWQob3V0cHV0SWQpOwogIC8vIENhY2hlIHN0ZXBzIG9uIHRoZSBvdXRwdXRFbGVtZW50IHRvIG1ha2UgaXQgYXZhaWxhYmxlIGZvciB0aGUgbmV4dCBjYWxsCiAgLy8gdG8gdXBsb2FkRmlsZXNDb250aW51ZSBmcm9tIFB5dGhvbi4KICBvdXRwdXRFbGVtZW50LnN0ZXBzID0gc3RlcHM7CgogIHJldHVybiBfdXBsb2FkRmlsZXNDb250aW51ZShvdXRwdXRJZCk7Cn0KCi8vIFRoaXMgaXMgcm91Z2hseSBhbiBhc3luYyBnZW5lcmF0b3IgKG5vdCBzdXBwb3J0ZWQgaW4gdGhlIGJyb3dzZXIgeWV0KSwKLy8gd2hlcmUgdGhlcmUgYXJlIG11bHRpcGxlIGFzeW5jaHJvbm91cyBzdGVwcyBhbmQgdGhlIFB5dGhvbiBzaWRlIGlzIGdvaW5nCi8vIHRvIHBvbGwgZm9yIGNvbXBsZXRpb24gb2YgZWFjaCBzdGVwLgovLyBUaGlzIHVzZXMgYSBQcm9taXNlIHRvIGJsb2NrIHRoZSBweXRob24gc2lkZSBvbiBjb21wbGV0aW9uIG9mIGVhY2ggc3RlcCwKLy8gdGhlbiBwYXNzZXMgdGhlIHJlc3VsdCBvZiB0aGUgcHJldmlvdXMgc3RlcCBhcyB0aGUgaW5wdXQgdG8gdGhlIG5leHQgc3RlcC4KZnVuY3Rpb24gX3VwbG9hZEZpbGVzQ29udGludWUob3V0cHV0SWQpIHsKICBjb25zdCBvdXRwdXRFbGVtZW50ID0gZG9jdW1lbnQuZ2V0RWxlbWVudEJ5SWQob3V0cHV0SWQpOwogIGNvbnN0IHN0ZXBzID0gb3V0cHV0RWxlbWVudC5zdGVwczsKCiAgY29uc3QgbmV4dCA9IHN0ZXBzLm5leHQob3V0cHV0RWxlbWVudC5sYXN0UHJvbWlzZVZhbHVlKTsKICByZXR1cm4gUHJvbWlzZS5yZXNvbHZlKG5leHQudmFsdWUucHJvbWlzZSkudGhlbigodmFsdWUpID0+IHsKICAgIC8vIENhY2hlIHRoZSBsYXN0IHByb21pc2UgdmFsdWUgdG8gbWFrZSBpdCBhdmFpbGFibGUgdG8gdGhlIG5leHQKICAgIC8vIHN0ZXAgb2YgdGhlIGdlbmVyYXRvci4KICAgIG91dHB1dEVsZW1lbnQubGFzdFByb21pc2VWYWx1ZSA9IHZhbHVlOwogICAgcmV0dXJuIG5leHQudmFsdWUucmVzcG9uc2U7CiAgfSk7Cn0KCi8qKgogKiBHZW5lcmF0b3IgZnVuY3Rpb24gd2hpY2ggaXMgY2FsbGVkIGJldHdlZW4gZWFjaCBhc3luYyBzdGVwIG9mIHRoZSB1cGxvYWQKICogcHJvY2Vzcy4KICogQHBhcmFtIHtzdHJpbmd9IGlucHV0SWQgRWxlbWVudCBJRCBvZiB0aGUgaW5wdXQgZmlsZSBwaWNrZXIgZWxlbWVudC4KICogQHBhcmFtIHtzdHJpbmd9IG91dHB1dElkIEVsZW1lbnQgSUQgb2YgdGhlIG91dHB1dCBkaXNwbGF5LgogKiBAcmV0dXJuIHshSXRlcmFibGU8IU9iamVjdD59IEl0ZXJhYmxlIG9mIG5leHQgc3RlcHMuCiAqLwpmdW5jdGlvbiogdXBsb2FkRmlsZXNTdGVwKGlucHV0SWQsIG91dHB1dElkKSB7CiAgY29uc3QgaW5wdXRFbGVtZW50ID0gZG9jdW1lbnQuZ2V0RWxlbWVudEJ5SWQoaW5wdXRJZCk7CiAgaW5wdXRFbGVtZW50LmRpc2FibGVkID0gZmFsc2U7CgogIGNvbnN0IG91dHB1dEVsZW1lbnQgPSBkb2N1bWVudC5nZXRFbGVtZW50QnlJZChvdXRwdXRJZCk7CiAgb3V0cHV0RWxlbWVudC5pbm5lckhUTUwgPSAnJzsKCiAgY29uc3QgcGlja2VkUHJvbWlzZSA9IG5ldyBQcm9taXNlKChyZXNvbHZlKSA9PiB7CiAgICBpbnB1dEVsZW1lbnQuYWRkRXZlbnRMaXN0ZW5lcignY2hhbmdlJywgKGUpID0+IHsKICAgICAgcmVzb2x2ZShlLnRhcmdldC5maWxlcyk7CiAgICB9KTsKICB9KTsKCiAgY29uc3QgY2FuY2VsID0gZG9jdW1lbnQuY3JlYXRlRWxlbWVudCgnYnV0dG9uJyk7CiAgaW5wdXRFbGVtZW50LnBhcmVudEVsZW1lbnQuYXBwZW5kQ2hpbGQoY2FuY2VsKTsKICBjYW5jZWwudGV4dENvbnRlbnQgPSAnQ2FuY2VsIHVwbG9hZCc7CiAgY29uc3QgY2FuY2VsUHJvbWlzZSA9IG5ldyBQcm9taXNlKChyZXNvbHZlKSA9PiB7CiAgICBjYW5jZWwub25jbGljayA9ICgpID0+IHsKICAgICAgcmVzb2x2ZShudWxsKTsKICAgIH07CiAgfSk7CgogIC8vIENhbmNlbCB1cGxvYWQgaWYgdXNlciBoYXNuJ3QgcGlja2VkIGFueXRoaW5nIGluIHRpbWVvdXQuCiAgY29uc3QgdGltZW91dFByb21pc2UgPSBuZXcgUHJvbWlzZSgocmVzb2x2ZSkgPT4gewogICAgc2V0VGltZW91dCgoKSA9PiB7CiAgICAgIHJlc29sdmUobnVsbCk7CiAgICB9LCBGSUxFX0NIQU5HRV9USU1FT1VUX01TKTsKICB9KTsKCiAgLy8gV2FpdCBmb3IgdGhlIHVzZXIgdG8gcGljayB0aGUgZmlsZXMuCiAgY29uc3QgZmlsZXMgPSB5aWVsZCB7CiAgICBwcm9taXNlOiBQcm9taXNlLnJhY2UoW3BpY2tlZFByb21pc2UsIHRpbWVvdXRQcm9taXNlLCBjYW5jZWxQcm9taXNlXSksCiAgICByZXNwb25zZTogewogICAgICBhY3Rpb246ICdzdGFydGluZycsCiAgICB9CiAgfTsKCiAgaWYgKCFmaWxlcykgewogICAgcmV0dXJuIHsKICAgICAgcmVzcG9uc2U6IHsKICAgICAgICBhY3Rpb246ICdjb21wbGV0ZScsCiAgICAgIH0KICAgIH07CiAgfQoKICBjYW5jZWwucmVtb3ZlKCk7CgogIC8vIERpc2FibGUgdGhlIGlucHV0IGVsZW1lbnQgc2luY2UgZnVydGhlciBwaWNrcyBhcmUgbm90IGFsbG93ZWQuCiAgaW5wdXRFbGVtZW50LmRpc2FibGVkID0gdHJ1ZTsKCiAgZm9yIChjb25zdCBmaWxlIG9mIGZpbGVzKSB7CiAgICBjb25zdCBsaSA9IGRvY3VtZW50LmNyZWF0ZUVsZW1lbnQoJ2xpJyk7CiAgICBsaS5hcHBlbmQoc3BhbihmaWxlLm5hbWUsIHtmb250V2VpZ2h0OiAnYm9sZCd9KSk7CiAgICBsaS5hcHBlbmQoc3BhbigKICAgICAgICBgKCR7ZmlsZS50eXBlIHx8ICduL2EnfSkgLSAke2ZpbGUuc2l6ZX0gYnl0ZXMsIGAgKwogICAgICAgIGBsYXN0IG1vZGlmaWVkOiAkewogICAgICAgICAgICBmaWxlLmxhc3RNb2RpZmllZERhdGUgPyBmaWxlLmxhc3RNb2RpZmllZERhdGUudG9Mb2NhbGVEYXRlU3RyaW5nKCkgOgogICAgICAgICAgICAgICAgICAgICAgICAgICAgICAgICAgICAnbi9hJ30gLSBgKSk7CiAgICBjb25zdCBwZXJjZW50ID0gc3BhbignMCUgZG9uZScpOwogICAgbGkuYXBwZW5kQ2hpbGQocGVyY2VudCk7CgogICAgb3V0cHV0RWxlbWVudC5hcHBlbmRDaGlsZChsaSk7CgogICAgY29uc3QgZmlsZURhdGFQcm9taXNlID0gbmV3IFByb21pc2UoKHJlc29sdmUpID0+IHsKICAgICAgY29uc3QgcmVhZGVyID0gbmV3IEZpbGVSZWFkZXIoKTsKICAgICAgcmVhZGVyLm9ubG9hZCA9IChlKSA9PiB7CiAgICAgICAgcmVzb2x2ZShlLnRhcmdldC5yZXN1bHQpOwogICAgICB9OwogICAgICByZWFkZXIucmVhZEFzQXJyYXlCdWZmZXIoZmlsZSk7CiAgICB9KTsKICAgIC8vIFdhaXQgZm9yIHRoZSBkYXRhIHRvIGJlIHJlYWR5LgogICAgbGV0IGZpbGVEYXRhID0geWllbGQgewogICAgICBwcm9taXNlOiBmaWxlRGF0YVByb21pc2UsCiAgICAgIHJlc3BvbnNlOiB7CiAgICAgICAgYWN0aW9uOiAnY29udGludWUnLAogICAgICB9CiAgICB9OwoKICAgIC8vIFVzZSBhIGNodW5rZWQgc2VuZGluZyB0byBhdm9pZCBtZXNzYWdlIHNpemUgbGltaXRzLiBTZWUgYi82MjExNTY2MC4KICAgIGxldCBwb3NpdGlvbiA9IDA7CiAgICB3aGlsZSAocG9zaXRpb24gPCBmaWxlRGF0YS5ieXRlTGVuZ3RoKSB7CiAgICAgIGNvbnN0IGxlbmd0aCA9IE1hdGgubWluKGZpbGVEYXRhLmJ5dGVMZW5ndGggLSBwb3NpdGlvbiwgTUFYX1BBWUxPQURfU0laRSk7CiAgICAgIGNvbnN0IGNodW5rID0gbmV3IFVpbnQ4QXJyYXkoZmlsZURhdGEsIHBvc2l0aW9uLCBsZW5ndGgpOwogICAgICBwb3NpdGlvbiArPSBsZW5ndGg7CgogICAgICBjb25zdCBiYXNlNjQgPSBidG9hKFN0cmluZy5mcm9tQ2hhckNvZGUuYXBwbHkobnVsbCwgY2h1bmspKTsKICAgICAgeWllbGQgewogICAgICAgIHJlc3BvbnNlOiB7CiAgICAgICAgICBhY3Rpb246ICdhcHBlbmQnLAogICAgICAgICAgZmlsZTogZmlsZS5uYW1lLAogICAgICAgICAgZGF0YTogYmFzZTY0LAogICAgICAgIH0sCiAgICAgIH07CiAgICAgIHBlcmNlbnQudGV4dENvbnRlbnQgPQogICAgICAgICAgYCR7TWF0aC5yb3VuZCgocG9zaXRpb24gLyBmaWxlRGF0YS5ieXRlTGVuZ3RoKSAqIDEwMCl9JSBkb25lYDsKICAgIH0KICB9CgogIC8vIEFsbCBkb25lLgogIHlpZWxkIHsKICAgIHJlc3BvbnNlOiB7CiAgICAgIGFjdGlvbjogJ2NvbXBsZXRlJywKICAgIH0KICB9Owp9CgpzY29wZS5nb29nbGUgPSBzY29wZS5nb29nbGUgfHwge307CnNjb3BlLmdvb2dsZS5jb2xhYiA9IHNjb3BlLmdvb2dsZS5jb2xhYiB8fCB7fTsKc2NvcGUuZ29vZ2xlLmNvbGFiLl9maWxlcyA9IHsKICBfdXBsb2FkRmlsZXMsCiAgX3VwbG9hZEZpbGVzQ29udGludWUsCn07Cn0pKHNlbGYpOwo=",
              "ok": true,
              "headers": [
                [
                  "content-type",
                  "application/javascript"
                ]
              ],
              "status": 200,
              "status_text": ""
            }
          },
          "base_uri": "https://localhost:8080/",
          "height": 91
        },
        "outputId": "a6c099e9-693b-47aa-b560-111a94f645ee"
      },
      "cell_type": "code",
      "source": [
        "if needUpload == True:\n",
        "  from google.colab import files\n",
        "\n",
        "  uploaded = files.upload()\n",
        "\n",
        "  for fn in uploaded.keys():\n",
        "    print('User uploaded file \"{name}\" with length {length} bytes'.format(\n",
        "        name=fn, length=len(uploaded[fn])))"
      ],
      "execution_count": 47,
      "outputs": [
        {
          "output_type": "display_data",
          "data": {
            "text/html": [
              "\n",
              "     <input type=\"file\" id=\"files-f43d6057-685e-488c-aff0-1125944da7fa\" name=\"files[]\" multiple disabled />\n",
              "     <output id=\"result-f43d6057-685e-488c-aff0-1125944da7fa\">\n",
              "      Upload widget is only available when the cell has been executed in the\n",
              "      current browser session. Please rerun this cell to enable.\n",
              "      </output>\n",
              "      <script src=\"/nbextensions/google.colab/files.js\"></script> "
            ],
            "text/plain": [
              "<IPython.core.display.HTML object>"
            ]
          },
          "metadata": {
            "tags": []
          }
        },
        {
          "output_type": "stream",
          "text": [
            "Saving make_prices_lstm2.csv to make_prices_lstm2 (1).csv\n",
            "User uploaded file \"make_prices_lstm2.csv\" with length 1117728 bytes\n"
          ],
          "name": "stdout"
        }
      ]
    },
    {
      "metadata": {
        "id": "ljASASCL2bjs",
        "colab_type": "code",
        "colab": {}
      },
      "cell_type": "code",
      "source": [
        "# import the data\n",
        "df = pd.read_csv('make_prices_lstm2.csv',usecols=['price','year'])"
      ],
      "execution_count": 0,
      "outputs": []
    },
    {
      "metadata": {
        "id": "5cLvZF__2gnT",
        "colab_type": "code",
        "colab": {
          "base_uri": "https://localhost:8080/",
          "height": 107
        },
        "outputId": "5dfe613a-1e99-4a06-d133-75fc7ed0f72e"
      },
      "cell_type": "code",
      "source": [
        "# scale to make easy for RNN\n",
        "df['price'] = df['price']/100\n",
        "df.head(2)"
      ],
      "execution_count": 49,
      "outputs": [
        {
          "output_type": "execute_result",
          "data": {
            "text/html": [
              "<div>\n",
              "<style scoped>\n",
              "    .dataframe tbody tr th:only-of-type {\n",
              "        vertical-align: middle;\n",
              "    }\n",
              "\n",
              "    .dataframe tbody tr th {\n",
              "        vertical-align: top;\n",
              "    }\n",
              "\n",
              "    .dataframe thead th {\n",
              "        text-align: right;\n",
              "    }\n",
              "</style>\n",
              "<table border=\"1\" class=\"dataframe\">\n",
              "  <thead>\n",
              "    <tr style=\"text-align: right;\">\n",
              "      <th></th>\n",
              "      <th>price</th>\n",
              "      <th>year</th>\n",
              "    </tr>\n",
              "  </thead>\n",
              "  <tbody>\n",
              "    <tr>\n",
              "      <th>0</th>\n",
              "      <td>0.3243</td>\n",
              "      <td>2014</td>\n",
              "    </tr>\n",
              "    <tr>\n",
              "      <th>1</th>\n",
              "      <td>0.3249</td>\n",
              "      <td>2014</td>\n",
              "    </tr>\n",
              "  </tbody>\n",
              "</table>\n",
              "</div>"
            ],
            "text/plain": [
              "    price  year\n",
              "0  0.3243  2014\n",
              "1  0.3249  2014"
            ]
          },
          "metadata": {
            "tags": []
          },
          "execution_count": 49
        }
      ]
    },
    {
      "metadata": {
        "id": "xy1U7ghRg4C1",
        "colab_type": "code",
        "colab": {
          "base_uri": "https://localhost:8080/",
          "height": 52
        },
        "outputId": "14b3761c-e7b4-4e6b-b43b-cabeed25d41e"
      },
      "cell_type": "code",
      "source": [
        "print ('there are {} hours in the dataset'.format(len(df)))\n",
        "print ('there are {} days in the dataset'.format(len(df)/24))"
      ],
      "execution_count": 50,
      "outputs": [
        {
          "output_type": "stream",
          "text": [
            "there are 38328 hours in the dataset\n",
            "there are 1597.0 days in the dataset\n"
          ],
          "name": "stdout"
        }
      ]
    },
    {
      "metadata": {
        "id": "vYqbEVl4eYTu",
        "colab_type": "code",
        "colab": {}
      },
      "cell_type": "code",
      "source": [
        "# reshape to\n",
        "\"\"\"\n",
        "X = [Mon, Tue\n",
        "     Tue, Wed\n",
        "     Wed, Thu]\n",
        "\n",
        "Y = [Wed\n",
        "    Thu\n",
        "    Fri]\n",
        "\n",
        "\"\"\"\n",
        "dataset = df['price'].values\n",
        "dataX = []\n",
        "dataY = []\n",
        "look_back = days_look_back * 24\n",
        "for i in range(0,len(dataset)-look_back-1,24):\n",
        "  a = dataset[i:(i+look_back)]\n",
        "  b = dataset [i+look_back:i+look_back+24]\n",
        "  dataX.append(a)  \n",
        "  dataY.append(b)"
      ],
      "execution_count": 0,
      "outputs": []
    },
    {
      "metadata": {
        "id": "Q7yXpcsMleLF",
        "colab_type": "code",
        "colab": {
          "base_uri": "https://localhost:8080/",
          "height": 52
        },
        "outputId": "666e45b8-851a-4cbe-be0d-db4da32b0397"
      },
      "cell_type": "code",
      "source": [
        "# to numpy\n",
        "dataX = np.asarray(dataX)\n",
        "dataY = np.asarray(dataY)\n",
        "print(\"X has shape {}\".format(dataX.shape))\n",
        "print(\"Y has shape {}\".format(dataY.shape))"
      ],
      "execution_count": 52,
      "outputs": [
        {
          "output_type": "stream",
          "text": [
            "X has shape (1590, 168)\n",
            "Y has shape (1590, 24)\n"
          ],
          "name": "stdout"
        }
      ]
    },
    {
      "metadata": {
        "id": "xr0gKfq8e-Jp",
        "colab_type": "code",
        "colab": {
          "base_uri": "https://localhost:8080/",
          "height": 390
        },
        "outputId": "785bd9fc-30fc-4e23-9ae7-552ee5f1f58e"
      },
      "cell_type": "code",
      "source": [
        "# check\n",
        "dataX[-1]"
      ],
      "execution_count": 53,
      "outputs": [
        {
          "output_type": "execute_result",
          "data": {
            "text/plain": [
              "array([0.4703, 0.38  , 0.32  , 0.2209, 0.2539, 0.35  , 0.3952, 0.5684,\n",
              "       0.6419, 0.664 , 0.5731, 0.4875, 0.4   , 0.41  , 0.4283, 0.434 ,\n",
              "       0.3697, 0.4398, 0.4576, 0.5287, 0.5259, 0.6   , 0.55  , 0.524 ,\n",
              "       0.5809, 0.501 , 0.374 , 0.336 , 0.336 , 0.3226, 0.2601, 0.4477,\n",
              "       0.3923, 0.3813, 0.34  , 0.321 , 0.32  , 0.324 , 0.274 , 0.251 ,\n",
              "       0.402 , 0.2368, 0.334 , 0.499 , 0.5588, 0.7957, 0.7748, 0.5756,\n",
              "       0.424 , 0.574 , 0.39  , 0.3263, 0.338 , 0.387 , 0.48  , 0.5174,\n",
              "       0.5173, 0.5   , 0.5571, 0.42  , 0.4177, 0.3893, 0.3744, 0.3818,\n",
              "       0.413 , 0.49  , 0.525 , 0.5967, 0.5812, 0.5538, 0.5617, 0.5873,\n",
              "       0.3996, 0.364 , 0.3026, 0.3233, 0.3515, 0.3285, 0.3205, 0.3614,\n",
              "       0.3995, 0.4121, 0.399 , 0.397 , 0.374 , 0.3101, 0.3   , 0.3   ,\n",
              "       0.3   , 0.349 , 0.38  , 0.4   , 0.4   , 0.4   , 0.4292, 0.5839,\n",
              "       0.39  , 0.2158, 0.1706, 0.1492, 0.2053, 0.2717, 0.32  , 0.1686,\n",
              "       0.259 , 0.35  , 0.324 , 0.313 , 0.388 , 0.32  , 0.374 , 0.312 ,\n",
              "       0.388 , 0.313 , 0.41  , 0.4   , 0.424 , 0.4536, 0.4988, 0.4083,\n",
              "       0.5368, 0.39  , 0.314 , 0.37  , 0.3   , 0.2713, 0.433 , 0.5406,\n",
              "       0.5801, 0.5583, 0.5079, 0.499 , 0.667 , 0.5   , 0.405 , 0.388 ,\n",
              "       0.3816, 0.3796, 0.4101, 0.431 , 0.433 , 0.436 , 0.401 , 0.399 ,\n",
              "       0.3343, 0.3124, 0.298 , 0.2802, 0.3001, 0.3258, 0.4101, 0.546 ,\n",
              "       0.586 , 0.678 , 0.512 , 0.489 , 0.4167, 0.424 , 0.4107, 0.405 ,\n",
              "       0.4417, 0.45  , 0.479 , 0.5   , 0.4996, 0.4708, 0.6361, 0.507 ])"
            ]
          },
          "metadata": {
            "tags": []
          },
          "execution_count": 53
        }
      ]
    },
    {
      "metadata": {
        "id": "uBnilCIdjfFo",
        "colab_type": "code",
        "colab": {
          "base_uri": "https://localhost:8080/",
          "height": 70
        },
        "outputId": "84867911-ec31-474d-d631-ba8c1c99fb3d"
      },
      "cell_type": "code",
      "source": [
        "# check the Y\n",
        "dataY[0]"
      ],
      "execution_count": 54,
      "outputs": [
        {
          "output_type": "execute_result",
          "data": {
            "text/plain": [
              "array([0.271 , 0.2649, 0.2631, 0.2598, 0.2646, 0.2699, 0.3031, 0.4642,\n",
              "       0.5796, 0.5782, 0.537 , 0.5451, 0.5646, 0.543 , 0.5111, 0.47  ,\n",
              "       0.5206, 0.7001, 0.65  , 0.6189, 0.6303, 0.55  , 0.4744, 0.4496])"
            ]
          },
          "metadata": {
            "tags": []
          },
          "execution_count": 54
        }
      ]
    },
    {
      "metadata": {
        "id": "sgE5SuFT7uZa",
        "colab_type": "code",
        "colab": {}
      },
      "cell_type": "code",
      "source": [
        "# split in train and test\n",
        "numtraindays = 3*365\n",
        "trainX = dataX[:numtraindays]\n",
        "testX = dataX[numtraindays:]\n",
        "\n",
        "trainY = dataY[:numtraindays]\n",
        "testY = dataY[numtraindays:]"
      ],
      "execution_count": 0,
      "outputs": []
    },
    {
      "metadata": {
        "id": "LHLl9qcq8AaK",
        "colab_type": "code",
        "colab": {
          "base_uri": "https://localhost:8080/",
          "height": 52
        },
        "outputId": "7b469629-cc81-4b6a-d7d7-d8f982b9fb4a"
      },
      "cell_type": "code",
      "source": [
        "# reshape X into [samples,timestep,features]\n",
        "trainX = trainX.reshape(numtraindays,look_back,1)\n",
        "trainY = trainY.reshape(numtraindays,24,1)\n",
        "print(trainX.shape)\n",
        "print(trainY.shape)"
      ],
      "execution_count": 56,
      "outputs": [
        {
          "output_type": "stream",
          "text": [
            "(1095, 168, 1)\n",
            "(1095, 24, 1)\n"
          ],
          "name": "stdout"
        }
      ]
    },
    {
      "metadata": {
        "id": "JE2Z8iLO8Cwh",
        "colab_type": "code",
        "colab": {
          "base_uri": "https://localhost:8080/",
          "height": 34
        },
        "outputId": "e8cfcd50-944e-4d22-d20e-f7700fb84375"
      },
      "cell_type": "code",
      "source": [
        "len(testX)"
      ],
      "execution_count": 57,
      "outputs": [
        {
          "output_type": "execute_result",
          "data": {
            "text/plain": [
              "495"
            ]
          },
          "metadata": {
            "tags": []
          },
          "execution_count": 57
        }
      ]
    },
    {
      "metadata": {
        "id": "hF0PXVW18EpZ",
        "colab_type": "code",
        "colab": {
          "base_uri": "https://localhost:8080/",
          "height": 52
        },
        "outputId": "c665d174-5887-49ca-fb51-f7cd544cd257"
      },
      "cell_type": "code",
      "source": [
        "numtestdays = int(len(testX))\n",
        "testX = testX.reshape(numtestdays,look_back,1)\n",
        "testY = testY.reshape(numtestdays,24,1)\n",
        "print(testX.shape)\n",
        "print(testY.shape)"
      ],
      "execution_count": 58,
      "outputs": [
        {
          "output_type": "stream",
          "text": [
            "(495, 168, 1)\n",
            "(495, 24, 1)\n"
          ],
          "name": "stdout"
        }
      ]
    },
    {
      "metadata": {
        "id": "vTNWAzKFEd23",
        "colab_type": "code",
        "colab": {}
      },
      "cell_type": "code",
      "source": [
        "def model_GRU(n_neurons, batch_size,n_epoch,dropout,testX):\n",
        "  \n",
        "  # define RNN configuration\n",
        "  np.random.seed(5)\n",
        "\n",
        "  # create RNN\n",
        "  model = Sequential()\n",
        "\n",
        "  model.add(CuDNNGRU(n_neurons, input_shape=(look_back, 1)))\n",
        "  model.add(Dropout(dropout))\n",
        "  model.add(RepeatVector(24))\n",
        "\n",
        "  model.add(CuDNNGRU(n_neurons, return_sequences=True))\n",
        "  model.add(Dropout(dropout))\n",
        "\n",
        "  model.add(TimeDistributed(Dense(1,activation = 'linear')))\n",
        "  model.compile(loss='mean_squared_error', optimizer='adam')\n",
        "  \n",
        "  #print(model.summary())\n",
        "\n",
        "  model.fit(trainX, trainY, epochs=n_epoch, batch_size=batch_size, verbose=0)\n",
        "  \n",
        "  testPredict = model.predict(testX)\n",
        "  \n",
        "  a = testY.reshape(days*24,1)\n",
        "  b = testPredict.reshape(days*24,1)\n",
        "  MAE = mean_absolute_error(a, b)*100\n",
        "  \n",
        "  return MAE"
      ],
      "execution_count": 0,
      "outputs": []
    },
    {
      "metadata": {
        "id": "YkRtxxIHs73l",
        "colab_type": "code",
        "colab": {
          "base_uri": "https://localhost:8080/",
          "height": 34
        },
        "outputId": "5d0c0565-c4dd-4d86-de36-8b96c1e48a10"
      },
      "cell_type": "code",
      "source": [
        "MAE = np.round(model_GRU(20,30,2,0.3,testX),2)\n",
        "print(MAE)"
      ],
      "execution_count": 60,
      "outputs": [
        {
          "output_type": "stream",
          "text": [
            "8.35\n"
          ],
          "name": "stdout"
        }
      ]
    },
    {
      "metadata": {
        "id": "RZ0dfqZ4vS1K",
        "colab_type": "code",
        "colab": {}
      },
      "cell_type": "code",
      "source": [
        "l_n_neurons = [10,20,30,40,50,60,70,80,90,100]\n",
        "l_batch_size = [32,64]\n",
        "l_n_epoch = [500,1000]\n",
        "l_dropout = [0,0.1,0.2,0.3,0.4,0.5,0.6,0.7,0.8,0.9,0.95]\n",
        "\n",
        "#l_n_neurons = [1,5]\n",
        "#l_batch_size = [32]\n",
        "#l_n_epoch = [10,50]\n",
        "#l_dropout = [0,0.1]"
      ],
      "execution_count": 0,
      "outputs": []
    },
    {
      "metadata": {
        "id": "0o-cxo4iwUtP",
        "colab_type": "code",
        "colab": {
          "base_uri": "https://localhost:8080/",
          "height": 52
        },
        "outputId": "e8651210-2257-4eb4-a579-6339c2e49e50"
      },
      "cell_type": "code",
      "source": [
        "for n_neurons in l_n_neurons:\n",
        "  for batch_size in l_batch_size:\n",
        "    for n_epoch in l_n_epoch:\n",
        "      for dropout in l_dropout:\n",
        "        MAE = model_GRU(n_neurons,batch_size,n_epoch,dropout,testX)\n",
        "        print (\"n_neurons: {}, batch_size: {}, n_epoch: {}, dropout: {}, MAE: {}\".format(n_neurons,batch_size,n_epoch,dropout,np.round(MAE,2)))"
      ],
      "execution_count": 0,
      "outputs": [
        {
          "output_type": "stream",
          "text": [
            "n_neurons: 10, batch_size: 32, n_epoch: 500, dropout: 0, MAE: 6.23\n",
            "n_neurons: 10, batch_size: 32, n_epoch: 500, dropout: 0.1, MAE: 6.31\n"
          ],
          "name": "stdout"
        }
      ]
    },
    {
      "metadata": {
        "id": "yoi_3ZYiD2HN",
        "colab_type": "code",
        "colab": {
          "base_uri": "https://localhost:8080/",
          "height": 34
        },
        "outputId": "c2f61310-74b3-4109-9759-01c4600fde71"
      },
      "cell_type": "code",
      "source": [
        "# make predictions\n",
        "#trainPredict = model.predict(trainX)\n",
        "#testPredict = model.predict(testX)\n",
        "#print(testPredict.shape)"
      ],
      "execution_count": 24,
      "outputs": [
        {
          "output_type": "stream",
          "text": [
            "(495, 24, 1)\n"
          ],
          "name": "stdout"
        }
      ]
    },
    {
      "metadata": {
        "id": "N3b9ub13D4AT",
        "colab_type": "code",
        "colab": {}
      },
      "cell_type": "code",
      "source": [
        "# calc the mean absolute error\n",
        "#print(testY.shape)\n",
        "#days = testPredict.shape[0]\n",
        "#a = testY.reshape(days*24,1)\n",
        "#b = testPredict.reshape(days*24,1)\n",
        "#mean_absolute_error(a, b)*100"
      ],
      "execution_count": 0,
      "outputs": []
    },
    {
      "metadata": {
        "id": "gS45nO-Q_7Mk",
        "colab_type": "code",
        "colab": {}
      },
      "cell_type": "code",
      "source": [
        "#mean_squared_error(a, b)"
      ],
      "execution_count": 0,
      "outputs": []
    },
    {
      "metadata": {
        "id": "Ik-bgmRIvzR1",
        "colab_type": "code",
        "colab": {
          "base_uri": "https://localhost:8080/",
          "height": 54
        },
        "outputId": "a61521db-0558-48c7-c7ac-f15f630a9784"
      },
      "cell_type": "code",
      "source": [
        "\"\"\"\n",
        "\n",
        "# define RNN configuration\n",
        "np.random.seed(5)\n",
        "n_neurons = 5\n",
        "batch_size = 73\n",
        "n_epoch = 100\n",
        "# create RNN\n",
        "model = Sequential()\n",
        "model.add(GRU(n_neurons, batch_input_shape=(batch_size, 48, 1),stateful=True))\n",
        "#model.add(LSTM(n_neurons, batch_input_shape=(batch_size, 48, 1),stateful=True))\n",
        "model.add(RepeatVector(24))\n",
        "model.add(GRU(n_neurons, return_sequences=True,stateful=True))\n",
        "#model.add(LSTM(n_neurons, return_sequences=True,stateful=True))\n",
        "model.add(TimeDistributed(Dense(1,activation = 'linear')))\n",
        "model.compile(loss='mean_squared_error', optimizer='adam')\n",
        "print(model.summary())\n",
        "# train RNN\n",
        "#model.fit(trainX, trainY, epochs=n_epoch, batch_size=batch_size, verbose=2)\n",
        "# train LSTM\n",
        "for epoch in range(n_epoch):\n",
        "\n",
        "  # fit model for one epoch on this sequence\n",
        "  model.fit(trainX, trainY, epochs=1, batch_size=batch_size, verbose=2, shuffle=False)\n",
        "  model.reset_states()\n",
        "  \n",
        "\"\"\"  "
      ],
      "execution_count": 29,
      "outputs": [
        {
          "output_type": "execute_result",
          "data": {
            "text/plain": [
              "\"\\n\\n  # define RNN configuration\\n  np.random.seed(5)\\n  n_neurons = 5\\n  batch_size = 73\\n  n_epoch = 100\\n  # create RNN\\n  model = Sequential()\\n  model.add(GRU(n_neurons, batch_input_shape=(batch_size, 48, 1),stateful=True))\\n  #model.add(LSTM(n_neurons, batch_input_shape=(batch_size, 48, 1),stateful=True))\\n  model.add(RepeatVector(24))\\n  model.add(GRU(n_neurons, return_sequences=True,stateful=True))\\n  #model.add(LSTM(n_neurons, return_sequences=True,stateful=True))\\n  model.add(TimeDistributed(Dense(1,activation = 'linear')))\\n  model.compile(loss='mean_squared_error', optimizer='adam')\\n  print(model.summary())\\n  # train RNN\\n  #model.fit(trainX, trainY, epochs=n_epoch, batch_size=batch_size, verbose=2)\\n  # train LSTM\\n  for epoch in range(n_epoch):\\n\\n    # fit model for one epoch on this sequence\\n    model.fit(trainX, trainY, epochs=1, batch_size=batch_size, verbose=2, shuffle=False)\\n    model.reset_states()\\n  \\n\""
            ]
          },
          "metadata": {
            "tags": []
          },
          "execution_count": 29
        }
      ]
    },
    {
      "metadata": {
        "id": "cdUXRwHz8VeS",
        "colab_type": "code",
        "colab": {}
      },
      "cell_type": "code",
      "source": [
        "# https://stackoverflow.com/questions/38294046/simple-recurrent-neural-network-input-shape\n",
        "#http://adventuresinmachinelearning.com/keras-lstm-tutorial/\n",
        "#np.random.seed(1337)\n",
        "\n",
        "#sample_size = 256\n",
        "#x_seed = [1, 0, 0, 0, 0, 0]\n",
        "#y_seed = [1, 0.8, 0.6, 0, 0, 0]\n",
        "\n",
        "#x_train = np.array([[x_seed] * sample_size]).reshape(sample_size,len(x_seed),1)\n",
        "#y_train = np.array([[y_seed]*sample_size]).reshape(sample_size,len(y_seed),1)\n",
        "\n",
        "#model=Sequential()\n",
        "#model.add(SimpleRNN(input_dim  =  1, output_dim = 50, return_sequences = True))\n",
        "#model.add(TimeDistributed(Dense(output_dim = 1, activation  =  \"sigmoid\")))\n",
        "#model.compile(loss = \"mse\", optimizer = \"rmsprop\")\n",
        "#print(model.summary())\n",
        "#model.fit(x_train, y_train, nb_epoch = 10, batch_size = 32)\n",
        "\n",
        "#print(model.predict(np.array([[[1],[0],[0],[0],[0],[0]]])))\n",
        "#[[[ 0.87810659]\n",
        "#[ 0.80646527]\n",
        "#[ 0.61600274]\n",
        "#[ 0.01652312]\n",
        "#[ 0.00930419]\n",
        "#[ 0.01328572]]]"
      ],
      "execution_count": 0,
      "outputs": []
    }
  ]
}