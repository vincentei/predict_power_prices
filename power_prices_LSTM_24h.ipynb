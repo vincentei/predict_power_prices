{
  "nbformat": 4,
  "nbformat_minor": 0,
  "metadata": {
    "colab": {
      "name": "power_prices_LSTM_24h.ipynb",
      "version": "0.3.2",
      "provenance": [],
      "collapsed_sections": []
    },
    "kernelspec": {
      "name": "python3",
      "display_name": "Python 3"
    }
  },
  "cells": [
    {
      "cell_type": "markdown",
      "metadata": {
        "id": "view-in-github",
        "colab_type": "text"
      },
      "source": [
        "[View in Colaboratory](https://colab.research.google.com/github/vincentei/predict_power_prices/blob/master/power_prices_LSTM_24h.ipynb)"
      ]
    },
    {
      "metadata": {
        "id": "-Zzt5ePhJeRV",
        "colab_type": "code",
        "colab": {}
      },
      "cell_type": "code",
      "source": [
        "import numpy as np\n",
        "import matplotlib.pyplot as plt\n",
        "import pandas as pd\n",
        "import math\n",
        "from keras.models import Sequential\n",
        "from keras.layers import Dense\n",
        "from keras.layers import LSTM\n",
        "from keras.layers import Dropout\n",
        "from keras.layers import Activation\n",
        "from keras.layers import GRU\n",
        "from sklearn.preprocessing import MinMaxScaler\n",
        "from sklearn.metrics import mean_squared_error,mean_absolute_error\n",
        "import datetime as dt\n",
        "from keras.layers import TimeDistributed\n",
        "from keras.layers import RepeatVector"
      ],
      "execution_count": 0,
      "outputs": []
    },
    {
      "metadata": {
        "id": "n-ImS7dFKExY",
        "colab_type": "code",
        "colab": {
          "base_uri": "https://localhost:8080/",
          "height": 34
        },
        "outputId": "a94e210e-b979-4452-a315-c0743b3f2945"
      },
      "cell_type": "code",
      "source": [
        "#https://machinelearningmastery.com/time-series-prediction-lstm-recurrent-neural-networks-python-keras/\n",
        "\"\"\"\n",
        "Instead of phrasing the past observations as separate input features, \n",
        "we can use them as time steps of the one input feature, \n",
        "which is indeed a more accurate framing of the problem.\n",
        "\n",
        "\"\"\""
      ],
      "execution_count": 58,
      "outputs": [
        {
          "output_type": "execute_result",
          "data": {
            "text/plain": [
              "'\\nInstead of phrasing the past observations as separate input features, \\nwe can use them as time steps of the one input feature, \\nwhich is indeed a more accurate framing of the problem.\\n\\n'"
            ]
          },
          "metadata": {
            "tags": []
          },
          "execution_count": 58
        }
      ]
    },
    {
      "metadata": {
        "id": "V5Js9TK2JmOn",
        "colab_type": "code",
        "colab": {}
      },
      "cell_type": "code",
      "source": [
        "needUpload = False"
      ],
      "execution_count": 0,
      "outputs": []
    },
    {
      "metadata": {
        "id": "579g6DL6Jo1e",
        "colab_type": "code",
        "colab": {}
      },
      "cell_type": "code",
      "source": [
        "if needUpload == True:\n",
        "  from google.colab import files\n",
        "\n",
        "  uploaded = files.upload()\n",
        "\n",
        "  for fn in uploaded.keys():\n",
        "    print('User uploaded file \"{name}\" with length {length} bytes'.format(\n",
        "        name=fn, length=len(uploaded[fn])))"
      ],
      "execution_count": 0,
      "outputs": []
    },
    {
      "metadata": {
        "id": "VagTBAY1Ju_q",
        "colab_type": "code",
        "colab": {}
      },
      "cell_type": "code",
      "source": [
        "# import the data\n",
        "df = pd.read_csv('make_prices_lstm2.csv',usecols=['price','year'])"
      ],
      "execution_count": 0,
      "outputs": []
    },
    {
      "metadata": {
        "id": "BU8cRvpjJxQY",
        "colab_type": "code",
        "colab": {
          "base_uri": "https://localhost:8080/",
          "height": 111
        },
        "outputId": "78a6a301-10b5-451b-b3c8-f21b12b9ce34"
      },
      "cell_type": "code",
      "source": [
        "df['price'] = df['price']/100\n",
        "df.head(2)"
      ],
      "execution_count": 62,
      "outputs": [
        {
          "output_type": "execute_result",
          "data": {
            "text/html": [
              "<div>\n",
              "<style scoped>\n",
              "    .dataframe tbody tr th:only-of-type {\n",
              "        vertical-align: middle;\n",
              "    }\n",
              "\n",
              "    .dataframe tbody tr th {\n",
              "        vertical-align: top;\n",
              "    }\n",
              "\n",
              "    .dataframe thead th {\n",
              "        text-align: right;\n",
              "    }\n",
              "</style>\n",
              "<table border=\"1\" class=\"dataframe\">\n",
              "  <thead>\n",
              "    <tr style=\"text-align: right;\">\n",
              "      <th></th>\n",
              "      <th>price</th>\n",
              "      <th>year</th>\n",
              "    </tr>\n",
              "  </thead>\n",
              "  <tbody>\n",
              "    <tr>\n",
              "      <th>0</th>\n",
              "      <td>0.3243</td>\n",
              "      <td>2014</td>\n",
              "    </tr>\n",
              "    <tr>\n",
              "      <th>1</th>\n",
              "      <td>0.3249</td>\n",
              "      <td>2014</td>\n",
              "    </tr>\n",
              "  </tbody>\n",
              "</table>\n",
              "</div>"
            ],
            "text/plain": [
              "    price  year\n",
              "0  0.3243  2014\n",
              "1  0.3249  2014"
            ]
          },
          "metadata": {
            "tags": []
          },
          "execution_count": 62
        }
      ]
    },
    {
      "metadata": {
        "id": "HujDs4Jjz_f9",
        "colab_type": "code",
        "colab": {
          "base_uri": "https://localhost:8080/",
          "height": 34
        },
        "outputId": "a95c8d36-6736-4d1f-d792-3ea7e6b29fc7"
      },
      "cell_type": "code",
      "source": [
        "# calc number of days in df, reshape df into (numdays,24)\n",
        "numdays = int(len(df)/24)\n",
        "dataX = df['price'].values.reshape(numdays,24)\n",
        "print(\"There are {} days in the dataset\".format(numdays))"
      ],
      "execution_count": 63,
      "outputs": [
        {
          "output_type": "stream",
          "text": [
            "There are 1597 days in the dataset\n"
          ],
          "name": "stdout"
        }
      ]
    },
    {
      "metadata": {
        "id": "KoTQk3Bx1DeH",
        "colab_type": "code",
        "colab": {
          "base_uri": "https://localhost:8080/",
          "height": 119
        },
        "outputId": "03d4f549-dbe6-47eb-8933-e697b03bf245"
      },
      "cell_type": "code",
      "source": [
        "# check\n",
        "dataX[0:2]"
      ],
      "execution_count": 64,
      "outputs": [
        {
          "output_type": "execute_result",
          "data": {
            "text/plain": [
              "array([[0.3243, 0.3249, 0.2843, 0.2763, 0.2599, 0.2447, 0.172 , 0.0996,\n",
              "        0.0949, 0.2655, 0.276 , 0.2844, 0.2869, 0.2883, 0.2906, 0.294 ,\n",
              "        0.3211, 0.3499, 0.4496, 0.3999, 0.3496, 0.3287, 0.2873, 0.2785],\n",
              "       [0.2791, 0.26  , 0.0496, 0.0099, 0.1999, 0.2842, 0.2934, 0.3846,\n",
              "        0.4335, 0.4694, 0.55  , 0.66  , 0.6409, 0.6293, 0.5943, 0.5244,\n",
              "        0.55  , 0.7808, 0.667 , 0.5353, 0.5244, 0.4496, 0.3547, 0.3064]])"
            ]
          },
          "metadata": {
            "tags": []
          },
          "execution_count": 64
        }
      ]
    },
    {
      "metadata": {
        "id": "LTGGmgSw3AHt",
        "colab_type": "code",
        "colab": {
          "base_uri": "https://localhost:8080/",
          "height": 68
        },
        "outputId": "b83fe334-7654-4776-8fc2-42cd6586e2aa"
      },
      "cell_type": "code",
      "source": [
        "# dataY is the same but all shifted\n",
        "dataY = dataX[1:]\n",
        "dataY[0]"
      ],
      "execution_count": 65,
      "outputs": [
        {
          "output_type": "execute_result",
          "data": {
            "text/plain": [
              "array([0.2791, 0.26  , 0.0496, 0.0099, 0.1999, 0.2842, 0.2934, 0.3846,\n",
              "       0.4335, 0.4694, 0.55  , 0.66  , 0.6409, 0.6293, 0.5943, 0.5244,\n",
              "       0.55  , 0.7808, 0.667 , 0.5353, 0.5244, 0.4496, 0.3547, 0.3064])"
            ]
          },
          "metadata": {
            "tags": []
          },
          "execution_count": 65
        }
      ]
    },
    {
      "metadata": {
        "id": "GW5o08ux33v8",
        "colab_type": "code",
        "colab": {}
      },
      "cell_type": "code",
      "source": [
        "# remove one day from dataX and check shape\n",
        "dataX = dataX[:-1]"
      ],
      "execution_count": 0,
      "outputs": []
    },
    {
      "metadata": {
        "id": "kUyW8VHi4HiD",
        "colab_type": "code",
        "colab": {
          "base_uri": "https://localhost:8080/",
          "height": 51
        },
        "outputId": "014ac065-d4bb-4b10-8e93-59a9fb22225b"
      },
      "cell_type": "code",
      "source": [
        "print(dataX.shape)\n",
        "print(dataY.shape)"
      ],
      "execution_count": 67,
      "outputs": [
        {
          "output_type": "stream",
          "text": [
            "(1596, 24)\n",
            "(1596, 24)\n"
          ],
          "name": "stdout"
        }
      ]
    },
    {
      "metadata": {
        "id": "pgg-jgZq4jdS",
        "colab_type": "code",
        "colab": {}
      },
      "cell_type": "code",
      "source": [
        "# split in train and test\n",
        "numtraindays = 3*365\n",
        "trainX = dataX[:numtraindays]\n",
        "testX = dataX[numtraindays:]\n",
        "\n",
        "trainY = dataY[:numtraindays]\n",
        "testY = dataY[numtraindays:]"
      ],
      "execution_count": 0,
      "outputs": []
    },
    {
      "metadata": {
        "id": "Dvoyfsj25LFA",
        "colab_type": "code",
        "colab": {
          "base_uri": "https://localhost:8080/",
          "height": 51
        },
        "outputId": "49ed3a99-ab40-42b1-9e6a-a4db61f5a447"
      },
      "cell_type": "code",
      "source": [
        "# reshape X into [samples,timestep,features]\n",
        "trainX = trainX.reshape(numtraindays,24,1)\n",
        "trainY = trainY.reshape(numtraindays,24,1)\n",
        "print(trainX.shape)\n",
        "print(trainY.shape)"
      ],
      "execution_count": 69,
      "outputs": [
        {
          "output_type": "stream",
          "text": [
            "(1095, 24, 1)\n",
            "(1095, 24, 1)\n"
          ],
          "name": "stdout"
        }
      ]
    },
    {
      "metadata": {
        "id": "ECBAamipcxQv",
        "colab_type": "code",
        "colab": {
          "base_uri": "https://localhost:8080/",
          "height": 34
        },
        "outputId": "34c29432-6b1b-4a2a-d756-62b3c07158ce"
      },
      "cell_type": "code",
      "source": [
        "len(testX)"
      ],
      "execution_count": 70,
      "outputs": [
        {
          "output_type": "execute_result",
          "data": {
            "text/plain": [
              "501"
            ]
          },
          "metadata": {
            "tags": []
          },
          "execution_count": 70
        }
      ]
    },
    {
      "metadata": {
        "id": "IgONPSKqcWN3",
        "colab_type": "code",
        "colab": {
          "base_uri": "https://localhost:8080/",
          "height": 51
        },
        "outputId": "011f8bbc-3f7e-4e86-fffb-56cbef11a53e"
      },
      "cell_type": "code",
      "source": [
        "numtestdays = int(len(testX))\n",
        "testX = testX.reshape(numtestdays,24,1)\n",
        "testY = testY.reshape(numtestdays,24,1)\n",
        "print(testX.shape)\n",
        "print(testY.shape)"
      ],
      "execution_count": 71,
      "outputs": [
        {
          "output_type": "stream",
          "text": [
            "(501, 24, 1)\n",
            "(501, 24, 1)\n"
          ],
          "name": "stdout"
        }
      ]
    },
    {
      "metadata": {
        "id": "KJ7VWycLOVsp",
        "colab_type": "code",
        "colab": {}
      },
      "cell_type": "code",
      "source": [
        "# reshape X into [samples,timestep,features]\n",
        "#numtestdays = numdays - numtraindays\n",
        "#testX = testX.reshape(numtraindays,24,1)\n",
        "#testY = testY.reshape(numtraindays,24,1)\n",
        "#print(testX.shape)\n",
        "#print(testY.shape)"
      ],
      "execution_count": 0,
      "outputs": []
    },
    {
      "metadata": {
        "id": "sSmYz_R5ZZJ-",
        "colab_type": "code",
        "colab": {}
      },
      "cell_type": "code",
      "source": [
        "# fix random seed for reproducibility\n",
        "np.random.seed(5)"
      ],
      "execution_count": 0,
      "outputs": []
    },
    {
      "metadata": {
        "id": "WFodL_0Jj9Me",
        "colab_type": "code",
        "colab": {}
      },
      "cell_type": "code",
      "source": [
        "# example repeat vector\n",
        "#https://machinelearningmastery.com/how-to-use-an-encoder-decoder-lstm-to-echo-sequences-of-random-integers/\n"
      ],
      "execution_count": 0,
      "outputs": []
    },
    {
      "metadata": {
        "id": "EsbjYBg0Qv4s",
        "colab_type": "code",
        "colab": {
          "base_uri": "https://localhost:8080/",
          "height": 374
        },
        "outputId": "0ead03a5-cf97-4df8-94b8-42d196493e76"
      },
      "cell_type": "code",
      "source": [
        "# define LSTM configuration\n",
        "n_neurons = 1\n",
        "batch_size = 1\n",
        "n_epoch = 4\n",
        "# create LSTM\n",
        "model = Sequential()\n",
        "model.add(LSTM(n_neurons, input_shape=(24, 1), return_sequences=True))\n",
        "#model.add(RepeatVector(24))\n",
        "model.add(TimeDistributed(Dense(1,activation = 'linear')))\n",
        "model.compile(loss='mean_squared_error', optimizer='adam')\n",
        "print(model.summary())\n",
        "# train LSTM\n",
        "model.fit(trainX, trainY, epochs=n_epoch, batch_size=batch_size, verbose=2)"
      ],
      "execution_count": 84,
      "outputs": [
        {
          "output_type": "stream",
          "text": [
            "_________________________________________________________________\n",
            "Layer (type)                 Output Shape              Param #   \n",
            "=================================================================\n",
            "lstm_20 (LSTM)               (None, 24, 1)             12        \n",
            "_________________________________________________________________\n",
            "time_distributed_10 (TimeDis (None, 24, 1)             2         \n",
            "=================================================================\n",
            "Total params: 14\n",
            "Trainable params: 14\n",
            "Non-trainable params: 0\n",
            "_________________________________________________________________\n",
            "None\n",
            "Epoch 1/4\n",
            " - 16s - loss: 0.0195\n",
            "Epoch 2/4\n",
            " - 15s - loss: 0.0090\n",
            "Epoch 3/4\n",
            " - 15s - loss: 0.0082\n",
            "Epoch 4/4\n",
            " - 15s - loss: 0.0078\n"
          ],
          "name": "stdout"
        },
        {
          "output_type": "execute_result",
          "data": {
            "text/plain": [
              "<keras.callbacks.History at 0x7fa859ec9f98>"
            ]
          },
          "metadata": {
            "tags": []
          },
          "execution_count": 84
        }
      ]
    },
    {
      "metadata": {
        "id": "BSIrCRQaJ_Gn",
        "colab_type": "code",
        "colab": {}
      },
      "cell_type": "code",
      "source": [
        "# shampoo multistep\n",
        "#https://machinelearningmastery.com/multi-step-time-series-forecasting-long-short-term-memory-networks-python/\n",
        "#https://machinelearningmastery.com/timedistributed-layer-for-long-short-term-memory-networks-in-python/"
      ],
      "execution_count": 0,
      "outputs": []
    },
    {
      "metadata": {
        "id": "kq1ntdMPgZFG",
        "colab_type": "code",
        "colab": {
          "base_uri": "https://localhost:8080/",
          "height": 34
        },
        "outputId": "4233253c-4bce-4c07-babd-2fa9ac95951c"
      },
      "cell_type": "code",
      "source": [
        "# make predictions\n",
        "trainPredict = model.predict(trainX)\n",
        "testPredict = model.predict(testX)\n",
        "print(testPredict.shape)"
      ],
      "execution_count": 76,
      "outputs": [
        {
          "output_type": "stream",
          "text": [
            "(501, 24, 1)\n"
          ],
          "name": "stdout"
        }
      ]
    },
    {
      "metadata": {
        "id": "klsCY9ltZJD_",
        "colab_type": "code",
        "colab": {
          "base_uri": "https://localhost:8080/",
          "height": 51
        },
        "outputId": "ba64a67f-065c-4292-e094-563920a21ce6"
      },
      "cell_type": "code",
      "source": [
        "# calc the mean absolute error\n",
        "print(testY.shape)\n",
        "a = testY.reshape(501*24,1)\n",
        "b = testPredict.reshape(501*24,1)\n",
        "mean_absolute_error(a, b)*100"
      ],
      "execution_count": 77,
      "outputs": [
        {
          "output_type": "stream",
          "text": [
            "(501, 24, 1)\n"
          ],
          "name": "stdout"
        },
        {
          "output_type": "execute_result",
          "data": {
            "text/plain": [
              "7.494107198009313"
            ]
          },
          "metadata": {
            "tags": []
          },
          "execution_count": 77
        }
      ]
    },
    {
      "metadata": {
        "id": "E1JafZ5TPyeG",
        "colab_type": "code",
        "colab": {
          "base_uri": "https://localhost:8080/",
          "height": 111
        },
        "outputId": "7bf8151c-a1dc-4482-9aea-254258219f50"
      },
      "cell_type": "code",
      "source": [
        "idx = df['year'] ==2014\n",
        "df_info = df.loc[idx]\n",
        "df_info.head(2)"
      ],
      "execution_count": 38,
      "outputs": [
        {
          "output_type": "execute_result",
          "data": {
            "text/html": [
              "<div>\n",
              "<style scoped>\n",
              "    .dataframe tbody tr th:only-of-type {\n",
              "        vertical-align: middle;\n",
              "    }\n",
              "\n",
              "    .dataframe tbody tr th {\n",
              "        vertical-align: top;\n",
              "    }\n",
              "\n",
              "    .dataframe thead th {\n",
              "        text-align: right;\n",
              "    }\n",
              "</style>\n",
              "<table border=\"1\" class=\"dataframe\">\n",
              "  <thead>\n",
              "    <tr style=\"text-align: right;\">\n",
              "      <th></th>\n",
              "      <th>price</th>\n",
              "      <th>year</th>\n",
              "    </tr>\n",
              "  </thead>\n",
              "  <tbody>\n",
              "    <tr>\n",
              "      <th>0</th>\n",
              "      <td>0.3243</td>\n",
              "      <td>2014</td>\n",
              "    </tr>\n",
              "    <tr>\n",
              "      <th>1</th>\n",
              "      <td>0.3249</td>\n",
              "      <td>2014</td>\n",
              "    </tr>\n",
              "  </tbody>\n",
              "</table>\n",
              "</div>"
            ],
            "text/plain": [
              "    price  year\n",
              "0  0.3243  2014\n",
              "1  0.3249  2014"
            ]
          },
          "metadata": {
            "tags": []
          },
          "execution_count": 38
        }
      ]
    },
    {
      "metadata": {
        "id": "_5t-SRYEQDO3",
        "colab_type": "code",
        "colab": {
          "base_uri": "https://localhost:8080/",
          "height": 34
        },
        "outputId": "ae48bbdd-f291-4fec-b7bd-3abea0ec67e8"
      },
      "cell_type": "code",
      "source": [
        "print(trainPredict.shape)"
      ],
      "execution_count": 39,
      "outputs": [
        {
          "output_type": "stream",
          "text": [
            "(1095, 24, 1)\n"
          ],
          "name": "stdout"
        }
      ]
    },
    {
      "metadata": {
        "id": "QGol67SIRlQM",
        "colab_type": "code",
        "colab": {
          "base_uri": "https://localhost:8080/",
          "height": 347
        },
        "outputId": "b52634fc-95a3-4709-b63f-f59ad609a50d"
      },
      "cell_type": "code",
      "source": [
        "day = 11\n",
        "plt.plot(trainPredict[day], dashes=[6, 2])\n",
        "plt.plot(trainX[day])\n",
        "plt.show()"
      ],
      "execution_count": 40,
      "outputs": [
        {
          "output_type": "display_data",
          "data": {
            "image/png": "[encoded data removed]",
            "text/plain": [
              "<matplotlib.figure.Figure at 0x7fa85f5f6f60>"
            ]
          },
          "metadata": {
            "tags": []
          }
        }
      ]
    },
    {
      "metadata": {
        "id": "IJv73aKJKd_h",
        "colab_type": "code",
        "colab": {}
      },
      "cell_type": "code",
      "source": [
        "#http://www.jakob-aungiers.com/articles/a/LSTM-Neural-Network-for-Time-Series-Prediction"
      ],
      "execution_count": 0,
      "outputs": []
    },
    {
      "metadata": {
        "id": "E-nn5vU9dxKx",
        "colab_type": "code",
        "colab": {}
      },
      "cell_type": "code",
      "source": [
        "#result = np.array(result)"
      ],
      "execution_count": 0,
      "outputs": []
    },
    {
      "metadata": {
        "id": "lf9u_y-OeIvQ",
        "colab_type": "code",
        "colab": {}
      },
      "cell_type": "code",
      "source": [
        "# shape (n_samples, sequence_length, num_features + num_predictions)\n",
        "#print(\"Shape of data: {}\".format(np.shape(result)))"
      ],
      "execution_count": 0,
      "outputs": []
    },
    {
      "metadata": {
        "id": "UeyKk5HLeMiP",
        "colab_type": "code",
        "colab": {}
      },
      "cell_type": "code",
      "source": [
        "#https://blog.keras.io/building-autoencoders-in-keras.html"
      ],
      "execution_count": 0,
      "outputs": []
    }
  ]
}